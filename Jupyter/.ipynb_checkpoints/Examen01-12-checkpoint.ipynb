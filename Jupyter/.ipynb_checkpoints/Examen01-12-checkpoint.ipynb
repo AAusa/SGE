{
 "cells": [
  {
   "cell_type": "markdown",
   "id": "106f446b",
   "metadata": {},
   "source": [
    "# Exámen 01/12/2022 SGE\n",
    "El exámen consta de un total de 25 puntos, de los que se muestra la puntuación a continuación "
   ]
  },
  {
   "cell_type": "markdown",
   "id": "d642f166",
   "metadata": {},
   "source": [
    "- [Ejercicio 1](#Ejercicio-1)  \n",
    "- [Ejercicio 2](#Ejercicio-2)\n",
    "- [Ejercicio 3](#Ejercicio-3)\n",
    "- [Ejercicio 4](#Ejercicio-4)  \n",
    "- [Ejercicio 5](#Ejercicio-5)\n",
    "- [Ejercicio 6](#Ejercicio-6)\n",
    "- [Ejercicio 7](#Ejercicio-7)  \n",
    "- [Ejercicio 8](#Ejercicio-8)\n",
    "- [Ejercicio 9](#Ejercicio-9)\n",
    "- [Ejercicio 10](#Ejercicio-10)  \n",
    "- [Ejercicio 11](#Ejercicio-11)"
   ]
  },
  {
   "cell_type": "markdown",
   "id": "f69d5b1e",
   "metadata": {},
   "source": [
    "## Ejercicio 1\n",
    "Crea un menú, de manera que se enlacen todos los ejercicios que se pidan en esta libreta. Crea el menú antes de este ejercicio (incluído este ejercicio) (**1 punto**)"
   ]
  },
  {
   "cell_type": "markdown",
   "id": "637a2c97",
   "metadata": {},
   "source": [
    "## Ejercicio 2 \n",
    "Crea una función que fuerce a un usuario a devolver un valor entre 90 y 110. La función debe tener por nombre **pideNúmero** (**1 punto**)"
   ]
  },
  {
   "cell_type": "code",
   "execution_count": 75,
   "id": "a12b2b69",
   "metadata": {},
   "outputs": [
    {
     "name": "stdout",
     "output_type": "stream",
     "text": [
      "Introduce num: 90\n"
     ]
    },
    {
     "data": {
      "text/plain": [
       "90"
      ]
     },
     "execution_count": 75,
     "metadata": {},
     "output_type": "execute_result"
    }
   ],
   "source": [
    "def pideNumero():\n",
    "    num = 0\n",
    "    while (num < 90 or num > 110):\n",
    "        num = int(input('Introduce num: '))\n",
    "    return num;\n",
    "pideNumero()"
   ]
  },
  {
   "cell_type": "markdown",
   "id": "a06d8b03",
   "metadata": {},
   "source": [
    "## Ejercicio 3\n",
    "Crea una función de manera que dado un número entero por parámetro devuelva una lista del tamaño dado por parámetro. Cada uno de los valores de la lista debe ser un número aleatorio entre 0 y el número pasado por parámetro. La función debe tener por nombre **generaListaAleatoria** (**1 punto**)"
   ]
  },
  {
   "cell_type": "code",
   "execution_count": 76,
   "id": "70c64f08",
   "metadata": {},
   "outputs": [
    {
     "name": "stdout",
     "output_type": "stream",
     "text": [
      "Introduce num: 91\n"
     ]
    }
   ],
   "source": [
    "import random\n",
    "def generaListaAleatoria (numero):\n",
    "    lista = [0]*numero\n",
    "    for i, elemento in enumerate((lista)):\n",
    "        lista[i] = (random.randint(0, numero))\n",
    "    return lista \n",
    "    \n",
    "numero = pideNumero()\n",
    "listaAleatoria = generaListaAleatoria(numero)"
   ]
  },
  {
   "cell_type": "markdown",
   "id": "1b7cea53",
   "metadata": {},
   "source": [
    "## Ejercicio 4\n",
    "Crea una función que tenga por parámetro una lista (será del tipo **listaAleatoria**) y devuelva una lista de elementos repetidos en la lista. \n",
    "\n",
    "Ej: Si mi lista es [1,2,2,3,4,5,5,6], la función debe devolver [2,5]. La función tendrá por nombre **elementosRepetidos** (**1 puntos**)\n"
   ]
  },
  {
   "cell_type": "code",
   "execution_count": 95,
   "id": "0712d970",
   "metadata": {
    "scrolled": true
   },
   "outputs": [
    {
     "name": "stdout",
     "output_type": "stream",
     "text": [
      "Introduce num: 90\n",
      "10\n",
      "15\n",
      "18\n",
      "21\n",
      "26\n",
      "30\n",
      "34\n",
      "35\n",
      "36\n",
      "38\n",
      "40\n",
      "42\n",
      "46\n",
      "51\n",
      "52\n",
      "58\n",
      "66\n",
      "69\n",
      "71\n",
      "77\n",
      "82\n",
      "84\n",
      "86\n"
     ]
    }
   ],
   "source": [
    "def elementosRepetidos (lista, unaVez = False):\n",
    "    listaRepes = []\n",
    "    for i, elemento in enumerate((lista)):\n",
    "        if unaVez == False:\n",
    "            if lista.count(i) > 1:\n",
    "                listaRepes.append(i) \n",
    "        else:\n",
    "            if lista.count(i) == 1:\n",
    "                listaRepes.append(i) \n",
    "    return listaRepes\n",
    "\n",
    "numero = pideNumero()\n",
    "listaAleatoria = generaListaAleatoria(numero)\n",
    "repes = elementosRepetidos(listaAleatoria)\n",
    "for item in repes:\n",
    "    print(item)"
   ]
  },
  {
   "cell_type": "markdown",
   "id": "d32dc9c7",
   "metadata": {},
   "source": [
    "## Ejercicio 5 \n",
    "Crea una función que tenga por parámetro una lista (será del tipo **listaAleatoria**), y devuelva una lista con los valores enteros de tamaño menor o igual que el tamaño de la lista que no aparecen en la lista. La función tendrá por nombre **elementosFaltantes** (**1 punto**)"
   ]
  },
  {
   "cell_type": "code",
   "execution_count": 86,
   "id": "e574ff95",
   "metadata": {},
   "outputs": [
    {
     "name": "stdout",
     "output_type": "stream",
     "text": [
      "Introduce num: 90\n",
      "4\n",
      "6\n",
      "7\n",
      "9\n",
      "13\n",
      "16\n",
      "17\n",
      "21\n",
      "22\n",
      "26\n",
      "28\n",
      "34\n",
      "35\n",
      "38\n",
      "41\n",
      "43\n",
      "45\n",
      "46\n",
      "48\n",
      "51\n",
      "54\n",
      "57\n",
      "61\n",
      "65\n",
      "68\n",
      "69\n",
      "70\n",
      "74\n",
      "75\n",
      "76\n",
      "78\n",
      "80\n",
      "86\n",
      "87\n",
      "89\n"
     ]
    }
   ],
   "source": [
    "def elementosFaltantes (lista):\n",
    "    listaFalta = []\n",
    "    for i in range(0,len(lista)):\n",
    "        if lista.count(i) == 0:\n",
    "            listaFalta.append(i)\n",
    "    return listaFalta\n",
    "\n",
    "numero = pideNumero()\n",
    "listaAleatoria = generaListaAleatoria(numero)\n",
    "faltan = elementosFaltantes(listaAleatoria)\n",
    "for item in faltan:\n",
    "    print(item)"
   ]
  },
  {
   "cell_type": "markdown",
   "id": "d9bad251",
   "metadata": {},
   "source": [
    "## Ejercicio 6 \n",
    "**Haciendo uso de las dos funciones anteriores**, crea una función que devuelva los elementos que solo aparecen una vez en listaAleatoria. La función tendrá por nombre **elementosUnicos** (**1 punto**)"
   ]
  },
  {
   "cell_type": "code",
   "execution_count": 97,
   "id": "5bb0ded4",
   "metadata": {},
   "outputs": [
    {
     "name": "stdout",
     "output_type": "stream",
     "text": [
      "Introduce num: 90\n",
      "1\n",
      "2\n",
      "12\n",
      "13\n",
      "14\n",
      "16\n",
      "20\n",
      "22\n",
      "28\n",
      "30\n",
      "34\n",
      "35\n",
      "39\n",
      "43\n",
      "44\n",
      "48\n",
      "51\n",
      "52\n",
      "54\n",
      "55\n",
      "56\n",
      "61\n",
      "66\n",
      "67\n",
      "70\n",
      "71\n",
      "72\n",
      "75\n",
      "77\n",
      "78\n",
      "80\n",
      "85\n",
      "86\n",
      "89\n"
     ]
    }
   ],
   "source": [
    "numero = pideNumero()\n",
    "listaAleatoria = generaListaAleatoria(numero)\n",
    "unicos = elementosRepetidos(listaAleatoria,True)\n",
    "for item in unicos:\n",
    "    print(item)"
   ]
  },
  {
   "cell_type": "markdown",
   "id": "0d41b817",
   "metadata": {},
   "source": [
    "## Ejercicio 7\n",
    "Crea una función de modo que tenga por parámetro una lista (será del tipo **listaAleatoria**) y devuelva un diccionario que tenga por clave un el número de veces que aparece un número y por valor una lista con los números que aparecen repetidos en la lista ese número de veces **diccionarioCuenta** (**2 puntos**)"
   ]
  },
  {
   "cell_type": "code",
   "execution_count": 71,
   "id": "4ac882c2",
   "metadata": {},
   "outputs": [
    {
     "name": "stdout",
     "output_type": "stream",
     "text": [
      "Introduce num: 11\n",
      "5\n",
      "6\n",
      "8\n",
      "10\n",
      "4\n",
      "4\n",
      "0\n",
      "8\n",
      "5\n",
      "9\n",
      "4\n",
      "diccionario[ 1 ] -->  0\n",
      "diccionario[ 2 ] -->  0\n",
      "diccionario[ 3 ] -->  0\n",
      "diccionario[ 4 ] -->  3\n",
      "diccionario[ 5 ] -->  2\n",
      "diccionario[ 6 ] -->  1\n",
      "diccionario[ 7 ] -->  0\n",
      "diccionario[ 8 ] -->  2\n",
      "diccionario[ 9 ] -->  1\n",
      "diccionario[ 10 ] -->  1\n"
     ]
    }
   ],
   "source": [
    "def diccionarioCuenta (lista):\n",
    "    diccionario = {}\n",
    "    for i in range(1,len(lista)):\n",
    "        diccionario[i] = lista.count(i)\n",
    "    return diccionario\n",
    "        \n",
    "numero = pideNumero()\n",
    "listaAleatoria = generaListaAleatoria(numero)\n",
    "diccionario = diccionarioCuenta(listaAleatoria)\n",
    "for i in range(1,len(listaAleatoria)):\n",
    "    print(\"diccionario[\",i,\"]\", \"--> \" , diccionario[i])"
   ]
  },
  {
   "cell_type": "markdown",
   "id": "3641780f",
   "metadata": {},
   "source": [
    "## Ejercicio 8\n",
    "Crea una función que devuelva una lista bidimensional aleatoria de tamaño 16x16 en los que cada uno de los elementos de la lista sea un caracter ASCII aleatorio (hay un total de 256 caracteres ASCII). Tal función se deberá llamar **aleatoriaASCII** (**1punto**)\n",
    "\n",
    "**Pista :**  Puedes tener en cuenta que la función chr() convierte un entero a un caracter y que la función ord() convierte un caracter a un entero"
   ]
  },
  {
   "cell_type": "code",
   "execution_count": 117,
   "id": "538b1c27",
   "metadata": {},
   "outputs": [],
   "source": [
    "import random\n",
    "def aleatoriaAscii():\n",
    "    aleatorio = [[0]*16,[0]*16,[0]*16,[0]*16,[0]*16,[0]*16, [0]*16, [0]*16,[0]*16,[0]*16,[0]*16,[0]*16,[0]*16,[0]*16, [0]*16, [0]*16]\n",
    "    for i in range(0,16):\n",
    "        for j in range(0,16):\n",
    "            aleatorio[i][j] = random.randint(0, 256);\n",
    "    return aleatorio\n",
    "aleatoriaAscii = aleatoriaAscii()"
   ]
  },
  {
   "cell_type": "markdown",
   "id": "1620e3c4",
   "metadata": {},
   "source": [
    "## Ejercicio 9 \n",
    "Crea una función que dada una lista bidimensional (del tipo lista aleatoriaAscii), represente los números correspondientes a los caracteres ASCII de la matriz. Debe quedar alineada y siguiendo el mismo formato de la imagen que aparece a continuación. Llamarás a la función **muestraMatrizAscii**. Crea algún método adicional si lo consideras necesario (**3 puntos**)"
   ]
  },
  {
   "cell_type": "markdown",
   "id": "0435bb23",
   "metadata": {},
   "source": [
    " <img src=\"matriz.png\" alt=\"Matriz ascii aleatoria\" title=\"Title text\" />"
   ]
  },
  {
   "cell_type": "code",
   "execution_count": 109,
   "id": "122feda2",
   "metadata": {},
   "outputs": [
    {
     "name": "stdout",
     "output_type": "stream",
     "text": [
      "147 , 142 , 72 , 168 , 78 , 141 , 196 , 21 , 111 , 166 , 34 , 179 , 40 , 119 , 194 , 5 , 0 , 0 , 0 , 0 , 0 , 0 , 0 , 0 , 0 , 0 , 0 , 0 , 0 , 0 , 0 , 0 , 0 , 0 , 0 , 0 , 0 , 0 , 0 , 0 , 0 , 0 , 0 , 0 , 0 , 0 , 0 , 0 , 0 , 0 , 0 , 0 , 0 , 0 , 0 , 0 , 0 , 0 , 0 , 0 , 0 , 0 , 0 , 0 , 0 , 0 , 0 , 0 , 0 , 0 , 0 , 0 , 0 , 0 , 0 , 0 , 0 , 0 , 0 , 0 , 0 , 0 , 0 , 0 , 0 , 0 , 0 , 0 , 0 , 0 , 0 , 0 , 0 , 0 , 0 , 0 , 0 , 0 , 0 , 0 , 0 , 0 , 0 , 0 , 0 , 0 , 0 , 0 , 0 , 0 , 0 , 0 , 0 , 0 , 0 , 0 , 0 , 0 , 0 , 0 , 0 , 0 , 0 , 0 , 0 , 0 , 0 , 0 , 0 , 0 , 0 , 0 , 0 , 0 , 0 , 0 , 0 , 0 , 0 , 0 , 0 , 0 , 0 , 0 , 0 , 0 , 0 , 0 , 0 , 0 , 0 , 0 , 0 , 0 , 0 , 0 , 0 , 0 , 0 , 0 , 0 , 0 , 0 , 0 , 0 , 0 , 0 , 0 , 0 , 0 , 0 , 0 , 0 , 0 , 0 , 0 , 0 , 0 , 0 , 0 , 0 , 0 , 0 , 0 , 0 , 0 , 0 , 0 , 0 , 0 , 0 , 0 , 0 , 0 , 0 , 0 , 0 , 0 , 0 , 0 , 0 , 0 , 0 , 0 , 0 , 0 , 0 , 0 , 0 , 0 , 0 , 0 , 0 , 0 , 0 , 0 , 0 , 0 , 0 , 0 , 0 , 0 , 0 , 0 , 0 , 0 , 0 , 0 , 0 , 0 , 0 , 0 , 0 , 0 , 0 , 0 , 0 , 0 , 0 , 0 , 0 , 0 , 0 , 0 , 0 , 0 , 0 , 0 , 0 , 0 , 0 , 0 , 0 , 0 , 0 , 0 , 147 , 142 , 72 , 168 , 78 , 141 , 196 , 21 , 111 , 166 , 34 , 179 , 40 , 119 , 194 , 5 , 75 , 167 , 0 , 104 , 62 , 12 , 161 , 143 , 143 , 198 , 118 , 201 , 104 , 236 , 115 , 172 , 0 , 0 , 0 , 0 , 0 , 0 , 0 , 0 , 0 , 0 , 0 , 0 , 0 , 0 , 0 , 0 , 0 , 0 , 0 , 0 , 0 , 0 , 0 , 0 , 0 , 0 , 0 , 0 , 0 , 0 , 0 , 0 , 0 , 0 , 0 , 0 , 0 , 0 , 0 , 0 , 0 , 0 , 0 , 0 , 0 , 0 , 0 , 0 , 0 , 0 , 0 , 0 , 0 , 0 , 0 , 0 , 0 , 0 , 0 , 0 , 0 , 0 , 0 , 0 , 0 , 0 , 0 , 0 , 0 , 0 , 0 , 0 , 0 , 0 , 0 , 0 , 0 , 0 , 0 , 0 , 0 , 0 , 0 , 0 , 0 , 0 , 0 , 0 , 0 , 0 , 0 , 0 , 0 , 0 , 0 , 0 , 0 , 0 , 0 , 0 , 0 , 0 , 0 , 0 , 0 , 0 , 0 , 0 , 0 , 0 , 0 , 0 , 0 , 0 , 0 , 0 , 0 , 0 , 0 , 0 , 0 , 0 , 0 , 0 , 0 , 0 , 0 , 0 , 0 , 0 , 0 , 0 , 0 , 0 , 0 , 0 , 0 , 0 , 0 , 0 , 0 , 0 , 0 , 0 , 0 , 0 , 0 , 0 , 0 , 0 , 0 , 0 , 0 , 0 , 0 , 0 , 0 , 0 , 0 , 0 , 0 , 0 , 0 , 0 , 0 , 0 , 0 , 0 , 0 , 0 , 0 , 0 , 0 , 0 , 0 , 0 , 0 , 0 , 0 , 0 , 0 , 0 , 0 , 0 , 0 , 0 , 0 , 0 , 0 , 0 , 0 , 0 , 0 , 0 , 0 , 0 , 0 , 0 , 0 , 0 , 0 , 0 , 0 , 0 , 0 , 0 , 0 , 0 , 0 , 0 , 0 , 0 , 0 , 0 , 0 , 0 , 0 , 0 , 0 , 0 , 0 , 0 , 0 , 0 , 147 , 142 , 72 , 168 , 78 , 141 , 196 , 21 , 111 , 166 , 34 , 179 , 40 , 119 , 194 , 5 , 75 , 167 , 0 , 104 , 62 , 12 , 161 , 143 , 143 , 198 , 118 , 201 , 104 , 236 , 115 , 172 , 20 , 229 , 79 , 240 , 84 , 93 , 94 , 255 , 190 , 223 , 176 , 30 , 129 , 96 , 3 , 174 , 0 , 0 , 0 , 0 , 0 , 0 , 0 , 0 , 0 , 0 , 0 , 0 , 0 , 0 , 0 , 0 , 0 , 0 , 0 , 0 , 0 , 0 , 0 , 0 , 0 , 0 , 0 , 0 , 0 , 0 , 0 , 0 , 0 , 0 , 0 , 0 , 0 , 0 , 0 , 0 , 0 , 0 , 0 , 0 , 0 , 0 , 0 , 0 , 0 , 0 , 0 , 0 , 0 , 0 , 0 , 0 , 0 , 0 , 0 , 0 , 0 , 0 , 0 , 0 , 0 , 0 , 0 , 0 , 0 , 0 , 0 , 0 , 0 , 0 , 0 , 0 , 0 , 0 , 0 , 0 , 0 , 0 , 0 , 0 , 0 , 0 , 0 , 0 , 0 , 0 , 0 , 0 , 0 , 0 , 0 , 0 , 0 , 0 , 0 , 0 , 0 , 0 , 0 , 0 , 0 , 0 , 0 , 0 , 0 , 0 , 0 , 0 , 0 , 0 , 0 , 0 , 0 , 0 , 0 , 0 , 0 , 0 , 0 , 0 , 0 , 0 , 0 , 0 , 0 , 0 , 0 , 0 , 0 , 0 , 0 , 0 , 0 , 0 , 0 , 0 , 0 , 0 , 0 , 0 , 0 , 0 , 0 , 0 , 0 , 0 , 0 , 0 , 0 , 0 , 0 , 0 , 0 , 0 , 0 , 0 , 0 , 0 , 0 , 0 , 0 , 0 , 0 , 0 , 0 , 0 , 0 , 0 , 0 , 0 , 0 , 0 , 0 , 0 , 0 , 0 , 0 , 0 , 0 , 0 , 0 , 0 , 0 , 0 , 0 , 0 , 0 , 0 , 0 , 0 , 0 , 0 , 0 , 0 , 0 , 0 , 0 , 0 , 0 , 0 , 0 , 0 , 0 , 0 , 147 , 142 , 72 , 168 , 78 , 141 , 196 , 21 , 111 , 166 , 34 , 179 , 40 , 119 , 194 , 5 , 75 , 167 , 0 , 104 , 62 , 12 , 161 , 143 , 143 , 198 , 118 , 201 , 104 , 236 , 115 , 172 , 20 , 229 , 79 , 240 , 84 , 93 , 94 , 255 , 190 , 223 , 176 , 30 , 129 , 96 , 3 , 174 , 116 , 6 , 248 , 186 , 151 , 157 , 202 , 107 , 128 , 170 , 133 , 120 , 196 , 25 , 74 , 233 , 0 , 0 , 0 , 0 , 0 , 0 , 0 , 0 , 0 , 0 , 0 , 0 , 0 , 0 , 0 , 0 , 0 , 0 , 0 , 0 , 0 , 0 , 0 , 0 , 0 , 0 , 0 , 0 , 0 , 0 , 0 , 0 , 0 , 0 , 0 , 0 , 0 , 0 , 0 , 0 , 0 , 0 , 0 , 0 , 0 , 0 , 0 , 0 , 0 , 0 , 0 , 0 , 0 , 0 , 0 , 0 , 0 , 0 , 0 , 0 , 0 , 0 , 0 , 0 , 0 , 0 , 0 , 0 , 0 , 0 , 0 , 0 , 0 , 0 , 0 , 0 , 0 , 0 , 0 , 0 , 0 , 0 , 0 , 0 , 0 , 0 , 0 , 0 , 0 , 0 , 0 , 0 , 0 , 0 , 0 , 0 , 0 , 0 , 0 , 0 , 0 , 0 , 0 , 0 , 0 , 0 , 0 , 0 , 0 , 0 , 0 , 0 , 0 , 0 , 0 , 0 , 0 , 0 , 0 , 0 , 0 , 0 , 0 , 0 , 0 , 0 , 0 , 0 , 0 , 0 , 0 , 0 , 0 , 0 , 0 , 0 , 0 , 0 , 0 , 0 , 0 , 0 , 0 , 0 , 0 , 0 , 0 , 0 , 0 , 0 , 0 , 0 , 0 , 0 , 0 , 0 , 0 , 0 , 0 , 0 , 0 , 0 , 0 , 0 , 0 , 0 , 0 , 0 , 0 , 0 , 0 , 0 , 0 , 0 , 0 , 0 , 0 , 0 , 0 , 0 , 0 , 0 , 0 , 0 , 0 , 0 , 0 , 0 , 0 , 0 , 0 , 0 , 147 , 142 , 72 , 168 , 78 , 141 , 196 , 21 , 111 , 166 , 34 , 179 , 40 , 119 , 194 , 5 , 75 , 167 , 0 , 104 , 62 , 12 , 161 , 143 , 143 , 198 , 118 , 201 , 104 , 236 , 115 , 172 , 20 , 229 , 79 , 240 , 84 , 93 , 94 , 255 , 190 , 223 , 176 , 30 , 129 , 96 , 3 , 174 , 116 , 6 , 248 , 186 , 151 , 157 , 202 , 107 , 128 , 170 , 133 , 120 , 196 , 25 , 74 , 233 , 153 , 206 , 219 , 17 , 151 , 107 , 28 , 93 , 223 , 216 , 14 , 107 , 231 , 212 , 180 , 219 , 0 , 0 , 0 , 0 , 0 , 0 , 0 , 0 , 0 , 0 , 0 , 0 , 0 , 0 , 0 , 0 , 0 , 0 , 0 , 0 , 0 , 0 , 0 , 0 , 0 , 0 , 0 , 0 , 0 , 0 , 0 , 0 , 0 , 0 , 0 , 0 , 0 , 0 , 0 , 0 , 0 , 0 , 0 , 0 , 0 , 0 , 0 , 0 , 0 , 0 , 0 , 0 , 0 , 0 , 0 , 0 , 0 , 0 , 0 , 0 , 0 , 0 , 0 , 0 , 0 , 0 , 0 , 0 , 0 , 0 , 0 , 0 , 0 , 0 , 0 , 0 , 0 , 0 , 0 , 0 , 0 , 0 , 0 , 0 , 0 , 0 , 0 , 0 , 0 , 0 , 0 , 0 , 0 , 0 , 0 , 0 , 0 , 0 , 0 , 0 , 0 , 0 , 0 , 0 , 0 , 0 , 0 , 0 , 0 , 0 , 0 , 0 , 0 , 0 , 0 , 0 , 0 , 0 , 0 , 0 , 0 , 0 , 0 , 0 , 0 , 0 , 0 , 0 , 0 , 0 , 0 , 0 , 0 , 0 , 0 , 0 , 0 , 0 , 0 , 0 , 0 , 0 , 0 , 0 , 0 , 0 , 0 , 0 , 0 , 0 , 0 , 0 , 0 , 0 , 0 , 0 , 0 , 0 , 0 , 0 , 0 , 0 , 0 , 0 , 0 , 0 , 0 , 0 , 0 , 0 , 0 , 0 , 0 , 0 , 0 , 0 , 147 , 142 , 72 , 168 , 78 , 141 , 196 , 21 , 111 , 166 , 34 , 179 , 40 , 119 , 194 , 5 , 75 , 167 , 0 , 104 , 62 , 12 , 161 , 143 , 143 , 198 , 118 , 201 , 104 , 236 , 115 , 172 , 20 , 229 , 79 , 240 , 84 , 93 , 94 , 255 , 190 , 223 , 176 , 30 , 129 , 96 , 3 , 174 , 116 , 6 , 248 , 186 , 151 , 157 , 202 , 107 , 128 , 170 , 133 , 120 , 196 , 25 , 74 , 233 , 153 , 206 , 219 , 17 , 151 , 107 , 28 , 93 , 223 , 216 , 14 , 107 , 231 , 212 , 180 , 219 , 86 , 115 , 238 , 191 , 96 , 32 , 87 , 99 , 222 , 106 , 168 , 181 , 127 , 197 , 150 , 222 , 0 , 0 , 0 , 0 , 0 , 0 , 0 , 0 , 0 , 0 , 0 , 0 , 0 , 0 , 0 , 0 , 0 , 0 , 0 , 0 , 0 , 0 , 0 , 0 , 0 , 0 , 0 , 0 , 0 , 0 , 0 , 0 , 0 , 0 , 0 , 0 , 0 , 0 , 0 , 0 , 0 , 0 , 0 , 0 , 0 , 0 , 0 , 0 , 0 , 0 , 0 , 0 , 0 , 0 , 0 , 0 , 0 , 0 , 0 , 0 , 0 , 0 , 0 , 0 , 0 , 0 , 0 , 0 , 0 , 0 , 0 , 0 , 0 , 0 , 0 , 0 , 0 , 0 , 0 , 0 , 0 , 0 , 0 , 0 , 0 , 0 , 0 , 0 , 0 , 0 , 0 , 0 , 0 , 0 , 0 , 0 , 0 , 0 , 0 , 0 , 0 , 0 , 0 , 0 , 0 , 0 , 0 , 0 , 0 , 0 , 0 , 0 , 0 , 0 , 0 , 0 , 0 , 0 , 0 , 0 , 0 , 0 , 0 , 0 , 0 , 0 , 0 , 0 , 0 , 0 , 0 , 0 , 0 , 0 , 0 , 0 , 0 , 0 , 0 , 0 , 0 , 0 , 0 , 0 , 0 , 0 , 0 , 0 , 0 , 0 , 0 , 0 , 0 , 0 , 0 , 0 , 0 , 0 , 0 , 0 , 147 , 142 , 72 , 168 , 78 , 141 , 196 , 21 , 111 , 166 , 34 , 179 , 40 , 119 , 194 , 5 , 75 , 167 , 0 , 104 , 62 , 12 , 161 , 143 , 143 , 198 , 118 , 201 , 104 , 236 , 115 , 172 , 20 , 229 , 79 , 240 , 84 , 93 , 94 , 255 , 190 , 223 , 176 , 30 , 129 , 96 , 3 , 174 , 116 , 6 , 248 , 186 , 151 , 157 , 202 , 107 , 128 , 170 , 133 , 120 , 196 , 25 , 74 , 233 , 153 , 206 , 219 , 17 , 151 , 107 , 28 , 93 , 223 , 216 , 14 , 107 , 231 , 212 , 180 , 219 , 86 , 115 , 238 , 191 , 96 , 32 , 87 , 99 , 222 , 106 , 168 , 181 , 127 , 197 , 150 , 222 , 102 , 7 , 160 , 195 , 131 , 156 , 72 , 31 , 107 , 233 , 164 , 6 , 162 , 158 , 133 , 64 , 0 , 0 , 0 , 0 , 0 , 0 , 0 , 0 , 0 , 0 , 0 , 0 , 0 , 0 , 0 , 0 , 0 , 0 , 0 , 0 , 0 , 0 , 0 , 0 , 0 , 0 , 0 , 0 , 0 , 0 , 0 , 0 , 0 , 0 , 0 , 0 , 0 , 0 , 0 , 0 , 0 , 0 , 0 , 0 , 0 , 0 , 0 , 0 , 0 , 0 , 0 , 0 , 0 , 0 , 0 , 0 , 0 , 0 , 0 , 0 , 0 , 0 , 0 , 0 , 0 , 0 , 0 , 0 , 0 , 0 , 0 , 0 , 0 , 0 , 0 , 0 , 0 , 0 , 0 , 0 , 0 , 0 , 0 , 0 , 0 , 0 , 0 , 0 , 0 , 0 , 0 , 0 , 0 , 0 , 0 , 0 , 0 , 0 , 0 , 0 , 0 , 0 , 0 , 0 , 0 , 0 , 0 , 0 , 0 , 0 , 0 , 0 , 0 , 0 , 0 , 0 , 0 , 0 , 0 , 0 , 0 , 0 , 0 , 0 , 0 , 0 , 0 , 0 , 0 , 0 , 0 , 0 , 0 , 0 , 0 , 0 , 0 , 0 , 0 , 0 , 0 , 0 , 0 , 0 , 147 , 142 , 72 , 168 , 78 , 141 , 196 , 21 , 111 , 166 , 34 , 179 , 40 , 119 , 194 , 5 , 75 , 167 , 0 , 104 , 62 , 12 , 161 , 143 , 143 , 198 , 118 , 201 , 104 , 236 , 115 , 172 , 20 , 229 , 79 , 240 , 84 , 93 , 94 , 255 , 190 , 223 , 176 , 30 , 129 , 96 , 3 , 174 , 116 , 6 , 248 , 186 , 151 , 157 , 202 , 107 , 128 , 170 , 133 , 120 , 196 , 25 , 74 , 233 , 153 , 206 , 219 , 17 , 151 , 107 , 28 , 93 , 223 , 216 , 14 , 107 , 231 , 212 , 180 , 219 , 86 , 115 , 238 , 191 , 96 , 32 , 87 , 99 , 222 , 106 , 168 , 181 , 127 , 197 , 150 , 222 , 102 , 7 , 160 , 195 , 131 , 156 , 72 , 31 , 107 , 233 , 164 , 6 , 162 , 158 , 133 , 64 , 179 , 93 , 122 , 51 , 229 , 23 , 31 , 23 , 37 , 234 , 38 , 178 , 213 , 237 , 61 , 173 , 0 , 0 , 0 , 0 , 0 , 0 , 0 , 0 , 0 , 0 , 0 , 0 , 0 , 0 , 0 , 0 , 0 , 0 , 0 , 0 , 0 , 0 , 0 , 0 , 0 , 0 , 0 , 0 , 0 , 0 , 0 , 0 , 0 , 0 , 0 , 0 , 0 , 0 , 0 , 0 , 0 , 0 , 0 , 0 , 0 , 0 , 0 , 0 , 0 , 0 , 0 , 0 , 0 , 0 , 0 , 0 , 0 , 0 , 0 , 0 , 0 , 0 , 0 , 0 , 0 , 0 , 0 , 0 , 0 , 0 , 0 , 0 , 0 , 0 , 0 , 0 , 0 , 0 , 0 , 0 , 0 , 0 , 0 , 0 , 0 , 0 , 0 , 0 , 0 , 0 , 0 , 0 , 0 , 0 , 0 , 0 , 0 , 0 , 0 , 0 , 0 , 0 , 0 , 0 , 0 , 0 , 0 , 0 , 0 , 0 , 0 , 0 , 0 , 0 , 0 , 0 , 0 , 0 , 0 , 0 , 0 , 0 , 0 , 0 , 0 , 0 , 0 , 0 , 147 , 142 , 72 , 168 , 78 , 141 , 196 , 21 , 111 , 166 , 34 , 179 , 40 , 119 , 194 , 5 , 75 , 167 , 0 , 104 , 62 , 12 , 161 , 143 , 143 , 198 , 118 , 201 , 104 , 236 , 115 , 172 , 20 , 229 , 79 , 240 , 84 , 93 , 94 , 255 , 190 , 223 , 176 , 30 , 129 , 96 , 3 , 174 , 116 , 6 , 248 , 186 , 151 , 157 , 202 , 107 , 128 , 170 , 133 , 120 , 196 , 25 , 74 , 233 , 153 , 206 , 219 , 17 , 151 , 107 , 28 , 93 , 223 , 216 , 14 , 107 , 231 , 212 , 180 , 219 , 86 , 115 , 238 , 191 , 96 , 32 , 87 , 99 , 222 , 106 , 168 , 181 , 127 , 197 , 150 , 222 , 102 , 7 , 160 , 195 , 131 , 156 , 72 , 31 , 107 , 233 , 164 , 6 , 162 , 158 , 133 , 64 , 179 , 93 , 122 , 51 , 229 , 23 , 31 , 23 , 37 , 234 , 38 , 178 , 213 , 237 , 61 , 173 , 90 , 33 , 32 , 131 , 180 , 217 , 122 , 160 , 148 , 86 , 222 , 36 , 7 , 213 , 135 , 68 , 0 , 0 , 0 , 0 , 0 , 0 , 0 , 0 , 0 , 0 , 0 , 0 , 0 , 0 , 0 , 0 , 0 , 0 , 0 , 0 , 0 , 0 , 0 , 0 , 0 , 0 , 0 , 0 , 0 , 0 , 0 , 0 , 0 , 0 , 0 , 0 , 0 , 0 , 0 , 0 , 0 , 0 , 0 , 0 , 0 , 0 , 0 , 0 , 0 , 0 , 0 , 0 , 0 , 0 , 0 , 0 , 0 , 0 , 0 , 0 , 0 , 0 , 0 , 0 , 0 , 0 , 0 , 0 , 0 , 0 , 0 , 0 , 0 , 0 , 0 , 0 , 0 , 0 , 0 , 0 , 0 , 0 , 0 , 0 , 0 , 0 , 0 , 0 , 0 , 0 , 0 , 0 , 0 , 0 , 0 , 0 , 0 , 0 , 0 , 0 , 0 , 0 , 0 , 0 , 0 , 0 , 0 , 0 , 0 , 0 , 0 , 0 , 147 , 142 , 72 , 168 , 78 , 141 , 196 , 21 , 111 , 166 , 34 , 179 , 40 , 119 , 194 , 5 , 75 , 167 , 0 , 104 , 62 , 12 , 161 , 143 , 143 , 198 , 118 , 201 , 104 , 236 , 115 , 172 , 20 , 229 , 79 , 240 , 84 , 93 , 94 , 255 , 190 , 223 , 176 , 30 , 129 , 96 , 3 , 174 , 116 , 6 , 248 , 186 , 151 , 157 , 202 , 107 , 128 , 170 , 133 , 120 , 196 , 25 , 74 , 233 , 153 , 206 , 219 , 17 , 151 , 107 , 28 , 93 , 223 , 216 , 14 , 107 , 231 , 212 , 180 , 219 , 86 , 115 , 238 , 191 , 96 , 32 , 87 , 99 , 222 , 106 , 168 , 181 , 127 , 197 , 150 , 222 , 102 , 7 , 160 , 195 , 131 , 156 , 72 , 31 , 107 , 233 , 164 , 6 , 162 , 158 , 133 , 64 , 179 , 93 , 122 , 51 , 229 , 23 , 31 , 23 , 37 , 234 , 38 , 178 , 213 , 237 , 61 , 173 , 90 , 33 , 32 , 131 , 180 , 217 , 122 , 160 , 148 , 86 , 222 , 36 , 7 , 213 , 135 , 68 , 250 , 182 , 173 , 42 , 238 , 45 , 88 , 48 , 19 , 112 , 26 , 82 , 95 , 204 , 1 , 196 , 0 , 0 , 0 , 0 , 0 , 0 , 0 , 0 , 0 , 0 , 0 , 0 , 0 , 0 , 0 , 0 , 0 , 0 , 0 , 0 , 0 , 0 , 0 , 0 , 0 , 0 , 0 , 0 , 0 , 0 , 0 , 0 , 0 , 0 , 0 , 0 , 0 , 0 , 0 , 0 , 0 , 0 , 0 , 0 , 0 , 0 , 0 , 0 , 0 , 0 , 0 , 0 , 0 , 0 , 0 , 0 , 0 , 0 , 0 , 0 , 0 , 0 , 0 , 0 , 0 , 0 , 0 , 0 , 0 , 0 , 0 , 0 , 0 , 0 , 0 , 0 , 0 , 0 , 0 , 0 , 0 , 0 , 0 , 0 , 0 , 0 , 0 , 0 , 0 , 0 , 0 , 0 , 0 , 0 , 0 , 0 , 147 , 142 , 72 , 168 , 78 , 141 , 196 , 21 , 111 , 166 , 34 , 179 , 40 , 119 , 194 , 5 , 75 , 167 , 0 , 104 , 62 , 12 , 161 , 143 , 143 , 198 , 118 , 201 , 104 , 236 , 115 , 172 , 20 , 229 , 79 , 240 , 84 , 93 , 94 , 255 , 190 , 223 , 176 , 30 , 129 , 96 , 3 , 174 , 116 , 6 , 248 , 186 , 151 , 157 , 202 , 107 , 128 , 170 , 133 , 120 , 196 , 25 , 74 , 233 , 153 , 206 , 219 , 17 , 151 , 107 , 28 , 93 , 223 , 216 , 14 , 107 , 231 , 212 , 180 , 219 , 86 , 115 , 238 , 191 , 96 , 32 , 87 , 99 , 222 , 106 , 168 , 181 , 127 , 197 , 150 , 222 , 102 , 7 , 160 , 195 , 131 , 156 , 72 , 31 , 107 , 233 , 164 , 6 , 162 , 158 , 133 , 64 , 179 , 93 , 122 , 51 , 229 , 23 , 31 , 23 , 37 , 234 , 38 , 178 , 213 , 237 , 61 , 173 , 90 , 33 , 32 , 131 , 180 , 217 , 122 , 160 , 148 , 86 , 222 , 36 , 7 , 213 , 135 , 68 , 250 , 182 , 173 , 42 , 238 , 45 , 88 , 48 , 19 , 112 , 26 , 82 , 95 , 204 , 1 , 196 , 104 , 27 , 118 , 241 , 143 , 23 , 78 , 119 , 249 , 91 , 207 , 37 , 238 , 93 , 196 , 225 , 0 , 0 , 0 , 0 , 0 , 0 , 0 , 0 , 0 , 0 , 0 , 0 , 0 , 0 , 0 , 0 , 0 , 0 , 0 , 0 , 0 , 0 , 0 , 0 , 0 , 0 , 0 , 0 , 0 , 0 , 0 , 0 , 0 , 0 , 0 , 0 , 0 , 0 , 0 , 0 , 0 , 0 , 0 , 0 , 0 , 0 , 0 , 0 , 0 , 0 , 0 , 0 , 0 , 0 , 0 , 0 , 0 , 0 , 0 , 0 , 0 , 0 , 0 , 0 , 0 , 0 , 0 , 0 , 0 , 0 , 0 , 0 , 0 , 0 , 0 , 0 , 0 , 0 , 0 , 0 , 147 , 142 , 72 , 168 , 78 , 141 , 196 , 21 , 111 , 166 , 34 , 179 , 40 , 119 , 194 , 5 , 75 , 167 , 0 , 104 , 62 , 12 , 161 , 143 , 143 , 198 , 118 , 201 , 104 , 236 , 115 , 172 , 20 , 229 , 79 , 240 , 84 , 93 , 94 , 255 , 190 , 223 , 176 , 30 , 129 , 96 , 3 , 174 , 116 , 6 , 248 , 186 , 151 , 157 , 202 , 107 , 128 , 170 , 133 , 120 , 196 , 25 , 74 , 233 , 153 , 206 , 219 , 17 , 151 , 107 , 28 , 93 , 223 , 216 , 14 , 107 , 231 , 212 , 180 , 219 , 86 , 115 , 238 , 191 , 96 , 32 , 87 , 99 , 222 , 106 , 168 , 181 , 127 , 197 , 150 , 222 , 102 , 7 , 160 , 195 , 131 , 156 , 72 , 31 , 107 , 233 , 164 , 6 , 162 , 158 , 133 , 64 , 179 , 93 , 122 , 51 , 229 , 23 , 31 , 23 , 37 , 234 , 38 , 178 , 213 , 237 , 61 , 173 , 90 , 33 , 32 , 131 , 180 , 217 , 122 , 160 , 148 , 86 , 222 , 36 , 7 , 213 , 135 , 68 , 250 , 182 , 173 , 42 , 238 , 45 , 88 , 48 , 19 , 112 , 26 , 82 , 95 , 204 , 1 , 196 , 104 , 27 , 118 , 241 , 143 , 23 , 78 , 119 , 249 , 91 , 207 , 37 , 238 , 93 , 196 , 225 , 208 , 114 , 122 , 206 , 89 , 198 , 213 , 112 , 8 , 253 , 150 , 142 , 182 , 3 , 221 , 131 , 0 , 0 , 0 , 0 , 0 , 0 , 0 , 0 , 0 , 0 , 0 , 0 , 0 , 0 , 0 , 0 , 0 , 0 , 0 , 0 , 0 , 0 , 0 , 0 , 0 , 0 , 0 , 0 , 0 , 0 , 0 , 0 , 0 , 0 , 0 , 0 , 0 , 0 , 0 , 0 , 0 , 0 , 0 , 0 , 0 , 0 , 0 , 0 , 0 , 0 , 0 , 0 , 0 , 0 , 0 , 0 , 0 , 0 , 0 , 0 , 0 , 0 , 0 , 0 , 147 , 142 , 72 , 168 , 78 , 141 , 196 , 21 , 111 , 166 , 34 , 179 , 40 , 119 , 194 , 5 , 75 , 167 , 0 , 104 , 62 , 12 , 161 , 143 , 143 , 198 , 118 , 201 , 104 , 236 , 115 , 172 , 20 , 229 , 79 , 240 , 84 , 93 , 94 , 255 , 190 , 223 , 176 , 30 , 129 , 96 , 3 , 174 , 116 , 6 , 248 , 186 , 151 , 157 , 202 , 107 , 128 , 170 , 133 , 120 , 196 , 25 , 74 , 233 , 153 , 206 , 219 , 17 , 151 , 107 , 28 , 93 , 223 , 216 , 14 , 107 , 231 , 212 , 180 , 219 , 86 , 115 , 238 , 191 , 96 , 32 , 87 , 99 , 222 , 106 , 168 , 181 , 127 , 197 , 150 , 222 , 102 , 7 , 160 , 195 , 131 , 156 , 72 , 31 , 107 , 233 , 164 , 6 , 162 , 158 , 133 , 64 , 179 , 93 , 122 , 51 , 229 , 23 , 31 , 23 , 37 , 234 , 38 , 178 , 213 , 237 , 61 , 173 , 90 , 33 , 32 , 131 , 180 , 217 , 122 , 160 , 148 , 86 , 222 , 36 , 7 , 213 , 135 , 68 , 250 , 182 , 173 , 42 , 238 , 45 , 88 , 48 , 19 , 112 , 26 , 82 , 95 , 204 , 1 , 196 , 104 , 27 , 118 , 241 , 143 , 23 , 78 , 119 , 249 , 91 , 207 , 37 , 238 , 93 , 196 , 225 , 208 , 114 , 122 , 206 , 89 , 198 , 213 , 112 , 8 , 253 , 150 , 142 , 182 , 3 , 221 , 131 , 202 , 57 , 139 , 75 , 231 , 128 , 204 , 28 , 218 , 35 , 1 , 183 , 61 , 91 , 149 , 230 , 0 , 0 , 0 , 0 , 0 , 0 , 0 , 0 , 0 , 0 , 0 , 0 , 0 , 0 , 0 , 0 , 0 , 0 , 0 , 0 , 0 , 0 , 0 , 0 , 0 , 0 , 0 , 0 , 0 , 0 , 0 , 0 , 0 , 0 , 0 , 0 , 0 , 0 , 0 , 0 , 0 , 0 , 0 , 0 , 0 , 0 , 0 , 0 , 147 , 142 , 72 , 168 , 78 , 141 , 196 , 21 , 111 , 166 , 34 , 179 , 40 , 119 , 194 , 5 , 75 , 167 , 0 , 104 , 62 , 12 , 161 , 143 , 143 , 198 , 118 , 201 , 104 , 236 , 115 , 172 , 20 , 229 , 79 , 240 , 84 , 93 , 94 , 255 , 190 , 223 , 176 , 30 , 129 , 96 , 3 , 174 , 116 , 6 , 248 , 186 , 151 , 157 , 202 , 107 , 128 , 170 , 133 , 120 , 196 , 25 , 74 , 233 , 153 , 206 , 219 , 17 , 151 , 107 , 28 , 93 , 223 , 216 , 14 , 107 , 231 , 212 , 180 , 219 , 86 , 115 , 238 , 191 , 96 , 32 , 87 , 99 , 222 , 106 , 168 , 181 , 127 , 197 , 150 , 222 , 102 , 7 , 160 , 195 , 131 , 156 , 72 , 31 , 107 , 233 , 164 , 6 , 162 , 158 , 133 , 64 , 179 , 93 , 122 , 51 , 229 , 23 , 31 , 23 , 37 , 234 , 38 , 178 , 213 , 237 , 61 , 173 , 90 , 33 , 32 , 131 , 180 , 217 , 122 , 160 , 148 , 86 , 222 , 36 , 7 , 213 , 135 , 68 , 250 , 182 , 173 , 42 , 238 , 45 , 88 , 48 , 19 , 112 , 26 , 82 , 95 , 204 , 1 , 196 , 104 , 27 , 118 , 241 , 143 , 23 , 78 , 119 , 249 , 91 , 207 , 37 , 238 , 93 , 196 , 225 , 208 , 114 , 122 , 206 , 89 , 198 , 213 , 112 , 8 , 253 , 150 , 142 , 182 , 3 , 221 , 131 , 202 , 57 , 139 , 75 , 231 , 128 , 204 , 28 , 218 , 35 , 1 , 183 , 61 , 91 , 149 , 230 , 110 , 163 , 18 , 62 , 63 , 231 , 36 , 205 , 146 , 235 , 241 , 213 , 166 , 149 , 244 , 181 , 0 , 0 , 0 , 0 , 0 , 0 , 0 , 0 , 0 , 0 , 0 , 0 , 0 , 0 , 0 , 0 , 0 , 0 , 0 , 0 , 0 , 0 , 0 , 0 , 0 , 0 , 0 , 0 , 0 , 0 , 0 , 0 , 147 , 142 , 72 , 168 , 78 , 141 , 196 , 21 , 111 , 166 , 34 , 179 , 40 , 119 , 194 , 5 , 75 , 167 , 0 , 104 , 62 , 12 , 161 , 143 , 143 , 198 , 118 , 201 , 104 , 236 , 115 , 172 , 20 , 229 , 79 , 240 , 84 , 93 , 94 , 255 , 190 , 223 , 176 , 30 , 129 , 96 , 3 , 174 , 116 , 6 , 248 , 186 , 151 , 157 , 202 , 107 , 128 , 170 , 133 , 120 , 196 , 25 , 74 , 233 , 153 , 206 , 219 , 17 , 151 , 107 , 28 , 93 , 223 , 216 , 14 , 107 , 231 , 212 , 180 , 219 , 86 , 115 , 238 , 191 , 96 , 32 , 87 , 99 , 222 , 106 , 168 , 181 , 127 , 197 , 150 , 222 , 102 , 7 , 160 , 195 , 131 , 156 , 72 , 31 , 107 , 233 , 164 , 6 , 162 , 158 , 133 , 64 , 179 , 93 , 122 , 51 , 229 , 23 , 31 , 23 , 37 , 234 , 38 , 178 , 213 , 237 , 61 , 173 , 90 , 33 , 32 , 131 , 180 , 217 , 122 , 160 , 148 , 86 , 222 , 36 , 7 , 213 , 135 , 68 , 250 , 182 , 173 , 42 , 238 , 45 , 88 , 48 , 19 , 112 , 26 , 82 , 95 , 204 , 1 , 196 , 104 , 27 , 118 , 241 , 143 , 23 , 78 , 119 , 249 , 91 , 207 , 37 , 238 , 93 , 196 , 225 , 208 , 114 , 122 , 206 , 89 , 198 , 213 , 112 , 8 , 253 , 150 , 142 , 182 , 3 , 221 , 131 , 202 , 57 , 139 , 75 , 231 , 128 , 204 , 28 , 218 , 35 , 1 , 183 , 61 , 91 , 149 , 230 , 110 , 163 , 18 , 62 , 63 , 231 , 36 , 205 , 146 , 235 , 241 , 213 , 166 , 149 , 244 , 181 , 138 , 11 , 240 , 147 , 163 , 256 , 124 , 107 , 217 , 79 , 90 , 146 , 255 , 165 , 215 , 226 , 0 , 0 , 0 , 0 , 0 , 0 , 0 , 0 , 0 , 0 , 0 , 0 , 0 , 0 , 0 , 0 , 147 , 142 , 72 , 168 , 78 , 141 , 196 , 21 , 111 , 166 , 34 , 179 , 40 , 119 , 194 , 5 , 75 , 167 , 0 , 104 , 62 , 12 , 161 , 143 , 143 , 198 , 118 , 201 , 104 , 236 , 115 , 172 , 20 , 229 , 79 , 240 , 84 , 93 , 94 , 255 , 190 , 223 , 176 , 30 , 129 , 96 , 3 , 174 , 116 , 6 , 248 , 186 , 151 , 157 , 202 , 107 , 128 , 170 , 133 , 120 , 196 , 25 , 74 , 233 , 153 , 206 , 219 , 17 , 151 , 107 , 28 , 93 , 223 , 216 , 14 , 107 , 231 , 212 , 180 , 219 , 86 , 115 , 238 , 191 , 96 , 32 , 87 , 99 , 222 , 106 , 168 , 181 , 127 , 197 , 150 , 222 , 102 , 7 , 160 , 195 , 131 , 156 , 72 , 31 , 107 , 233 , 164 , 6 , 162 , 158 , 133 , 64 , 179 , 93 , 122 , 51 , 229 , 23 , 31 , 23 , 37 , 234 , 38 , 178 , 213 , 237 , 61 , 173 , 90 , 33 , 32 , 131 , 180 , 217 , 122 , 160 , 148 , 86 , 222 , 36 , 7 , 213 , 135 , 68 , 250 , 182 , 173 , 42 , 238 , 45 , 88 , 48 , 19 , 112 , 26 , 82 , 95 , 204 , 1 , 196 , 104 , 27 , 118 , 241 , 143 , 23 , 78 , 119 , 249 , 91 , 207 , 37 , 238 , 93 , 196 , 225 , 208 , 114 , 122 , 206 , 89 , 198 , 213 , 112 , 8 , 253 , 150 , 142 , 182 , 3 , 221 , 131 , 202 , 57 , 139 , 75 , 231 , 128 , 204 , 28 , 218 , 35 , 1 , 183 , 61 , 91 , 149 , 230 , 110 , 163 , 18 , 62 , 63 , 231 , 36 , 205 , 146 , 235 , 241 , 213 , 166 , 149 , 244 , 181 , 138 , 11 , 240 , 147 , 163 , 256 , 124 , 107 , 217 , 79 , 90 , 146 , 255 , 165 , 215 , 226 , 6 , 7 , 217 , 0 , 146 , 212 , 227 , 147 , 5 , 100 , 215 , 198 , 31 , 195 , 192 , 196 , "
     ]
    }
   ],
   "source": [
    "import random\n",
    "def aleatoriaAscii():\n",
    "    aleatorio = [[0]*16,[0]*16,[0]*16,[0]*16,[0]*16,[0]*16, [0]*16, [0]*16,[0]*16,[0]*16,[0]*16,[0]*16,[0]*16,[0]*16, [0]*16, [0]*16]\n",
    "    for i in range(0,16):\n",
    "        for j in range(0,16):\n",
    "            aleatorio[i][j] = random.randint(0, 256);\n",
    "        for fila in aleatorio:\n",
    "            for elem in fila:\n",
    "                print(elem,\", \",end=\"\") \n",
    "aleatoriaAscii()"
   ]
  },
  {
   "cell_type": "markdown",
   "id": "df2e3df8",
   "metadata": {},
   "source": [
    "## Ejercicio 10\n",
    "Para la realización de este ejercicio utilizaremos VSCode. Recuerda que todos los atributos de las clases que creemos deben ser privados y todos los métodos deben ser públicos. Crearemos todas las clases en una misma carpeta.\n",
    "\n",
    "### Clase vehículo\n",
    "Es una clase que tendrá los atributos que se muestran en el diagrama uml. \n",
    "- El método aString devolverá un string que represente todos los datos del coche\n",
    "- Los métodos acelerar y frenar cambiarán la velocidad del vehículo según el parámetro de entrada (que supondremos por simplicidad que es positivo). El vehículo nunca podrá superar la velocidad máxima ni tener una velocidad inferior a 0.\n",
    "\n",
    "### Clase moto\n",
    "Deriva de clase vehículo. Al implemetar esta clase, el parámetro ruedas debe ser 2 automáticamente. \n",
    "- El método caballito simplemnte muestra por pantalla. \"Puedo hacer caballitos\"\n",
    "\n",
    "### Clase bicicleta\n",
    "Deriva de clase vehículo. Al implemetar esta clase, el parámetro ruedas debe ser 2 automáticamente. \n",
    "- El pedales simplemnte muestra por pantalla. \"Voy a pedales\"\n",
    "\n",
    "### Clase coche\n",
    "Deriva de clase vehículo. Al implemetar esta clase, el parámetro ruedas debe ser 4 automáticamente. \n",
    "- El método marchaAtras() pone a -10 la velocidad del coche, solamente si la velocidad del coche es 0.\n",
    "\n",
    "### Clase garaje\n",
    "Estará formada por una lista de vehículos y numVehiculos, que representará el tamaño de la lista\n",
    "- Los métodos totalKilometros() y totalCombustible() devolverán el número total kilómetros y combustible de los vehículos del garaje\n",
    "- El método añadirVehiculo(vehiculo) añadirá un vehículo al parámetro vehiculos y aumentará en 1 numVehiculos\n",
    "- El método quitarVehiculo(matricula) quitará el vehículo con la matrícula determinada de la lista disminuirá en 1 numVehiculos siempre que exista un vehículo con la matrícula dada. Si no existe un vehículo con la matrícula dada, no hará nada el método\n",
    "\n",
    "### Clase principal\n",
    "Ejecuta una clase principal en la que crees un vehículo de cada (1 bici, una moto y un coche, todos con velocidad inicial 0) y un garaje con esos 3 vehículos\n",
    "\n",
    "Se deja a continuación un diagrama UML que representa al ejercicio\n",
    "\n",
    "(**8 puntos**)\n",
    "\n",
    "\n",
    "\n",
    "\n"
   ]
  },
  {
   "cell_type": "markdown",
   "id": "fa166e72",
   "metadata": {},
   "source": [
    " <img src=\"diagrama.png\" alt=\"Diagrama UML\" title=\"Title text\" />"
   ]
  },
  {
   "cell_type": "markdown",
   "id": "5ab15554",
   "metadata": {},
   "source": [
    "## Ejercicio 11\n",
    "Adjunta imágenes (debe aparecer en la captura de pantalla el día y la fecha de hoy) en las que (**2 puntos**):\n",
    "- Muestres que te conectas por SSH a un servidor odoo \n",
    "- Muestres que está funcionando correctamente la página web de odoo\n",
    "- Muestres como pones odoo en modo desarrollador\n",
    "- Crea un módulo en Odoo llamado patata y muestra como aparece en la página web de odoo"
   ]
  },
  {
   "cell_type": "markdown",
   "id": "950dd5d5",
   "metadata": {},
   "source": [
    "<img src=\"ej1.png\" alt=\"Diagrama UML\" title=\"Title text\" />"
   ]
  },
  {
   "cell_type": "markdown",
   "id": "cd99bdc7",
   "metadata": {},
   "source": [
    "<img src=\"ej2.png\" alt=\"Diagrama UML\" title=\"Title text\" />"
   ]
  },
  {
   "cell_type": "markdown",
   "id": "3a920bab",
   "metadata": {},
   "source": [
    "<img src=\"ej3.png\" alt=\"Diagrama UML\" title=\"Title text\" />"
   ]
  },
  {
   "cell_type": "markdown",
   "id": "92dab7f8",
   "metadata": {},
   "source": [
    "<img src=\"ej4.png\" alt=\"Diagrama UML\" title=\"Title text\" />"
   ]
  }
 ],
 "metadata": {
  "kernelspec": {
   "display_name": "Python 3 (ipykernel)",
   "language": "python",
   "name": "python3"
  },
  "language_info": {
   "codemirror_mode": {
    "name": "ipython",
    "version": 3
   },
   "file_extension": ".py",
   "mimetype": "text/x-python",
   "name": "python",
   "nbconvert_exporter": "python",
   "pygments_lexer": "ipython3",
   "version": "3.10.8"
  }
 },
 "nbformat": 4,
 "nbformat_minor": 5
}
