{
 "cells": [
  {
   "cell_type": "markdown",
   "id": "86baec00",
   "metadata": {},
   "source": [
    "#  Instalación de Jupyter notebook y algunos ejercicios"
   ]
  },
  {
   "cell_type": "markdown",
   "id": "8df72183",
   "metadata": {},
   "source": [
    "##  Índice"
   ]
  },
  {
   "cell_type": "markdown",
   "id": "0f569716",
   "metadata": {},
   "source": [
    "- [Instalación](#Instalación)  \n",
    "- [Ejercicios estructura secuencial](#Ejercicios-estructura-secuencial)\n",
    "- [Ejercicios estructura alternativas](#Ejercicios-estructura-alternativas)\n",
    "- [Ejercicios estructuras repetitivas](#Ejercicios-estructuras-repetitivas)\n",
    "- [Ejercicios cadenas de carácteres](#Ejercicios-cadenas-de-carácteres)\n",
    "- [Ejercicios de listas](#Ejercicios-de-listas)\n"
   ]
  },
  {
   "cell_type": "markdown",
   "id": "f584e3cc",
   "metadata": {},
   "source": [
    "##  Instalación"
   ]
  },
  {
   "cell_type": "markdown",
   "id": "02fd97c2",
   "metadata": {},
   "source": [
    "- Descargar __python__ y añadirlo al path de Windows.\n",
    "- Instalar el gestor de paquetes __pip__ descargándolo del siguiente modo:\n",
    "    - `curl https://bootstrap.pypa.io/get-pip.py> get-pip.py`\n",
    "- Ejecutar el siguiente comando:\n",
    "    - `python get-pip.py`\n",
    "    - Comprobar que la versión de pip está instalada: `pip --version`\n",
    "- Ejecutar __jupyter__:\n",
    "    - `pip install jupyter`\n",
    "- Situarse en la carpeta \"Jupyter\" previamente creada y ejecutar:\n",
    "    - `jupyter notebook`\n",
    "    "
   ]
  },
  {
   "cell_type": "markdown",
   "id": "80852652",
   "metadata": {},
   "source": [
    "##  Ejercicios estructura secuencial"
   ]
  },
  {
   "cell_type": "markdown",
   "id": "43796d62",
   "metadata": {},
   "source": [
    "###  Ejercicio 1"
   ]
  },
  {
   "cell_type": "markdown",
   "id": "e3223e63",
   "metadata": {},
   "source": [
    "__Ejercicio 7:__ Realiza un programa que reciba una cantidad de minutos y muestre por pantalla a cuantas horas y minutos corresponde. Por ejemplo: 1000 minutos son 16 horas y 40 minutos.\n"
   ]
  },
  {
   "cell_type": "code",
   "execution_count": 33,
   "id": "3c9cfaf5",
   "metadata": {
    "scrolled": true
   },
   "outputs": [
    {
     "name": "stdout",
     "output_type": "stream",
     "text": [
      "Introduce minutos: 433\n",
      "433  minutos son:  7 horas y  13 minutos\n"
     ]
    }
   ],
   "source": [
    "min = int(input('Introduce minutos: '))\n",
    "print (min, ' minutos son: ' , (min // 60) , 'horas y ' , (min % 60) , 'minutos')"
   ]
  },
  {
   "cell_type": "markdown",
   "id": "9d5e453e",
   "metadata": {},
   "source": [
    "###  Ejercicio 2"
   ]
  },
  {
   "cell_type": "markdown",
   "id": "453d96ba",
   "metadata": {},
   "source": [
    "__Ejercicio 18:__ Pedir el nombre y los dos apellidos de una persona y mostrar las iniciales.\n"
   ]
  },
  {
   "cell_type": "code",
   "execution_count": 28,
   "id": "09b8d647",
   "metadata": {
    "scrolled": false
   },
   "outputs": [
    {
     "name": "stdout",
     "output_type": "stream",
     "text": [
      "Introduce nombre: Álvaro\n",
      "Introduce primer apellido: Ausaberri\n",
      "Introduce segundo apellido: Rodríguez\n",
      "ÁAR\n"
     ]
    }
   ],
   "source": [
    "n = input('Introduce nombre: ')\n",
    "a1 = input('Introduce primer apellido: ')\n",
    "a2 = input('Introduce segundo apellido: ')\n",
    "print (n[:1]+a1[:1]+a2[:1])"
   ]
  },
  {
   "cell_type": "markdown",
   "id": "1a053361",
   "metadata": {},
   "source": [
    "##  Ejercicios estructuras alternativas"
   ]
  },
  {
   "cell_type": "markdown",
   "id": "d4e6d37b",
   "metadata": {},
   "source": [
    "###  Ejercicio 1"
   ]
  },
  {
   "cell_type": "markdown",
   "id": "10939db8",
   "metadata": {},
   "source": [
    "__Ejercicio 6:__ Programa que lea una cadena por teclado y compruebe si es una letra mayúscula.\n"
   ]
  },
  {
   "cell_type": "code",
   "execution_count": 2,
   "id": "fa277b95",
   "metadata": {
    "scrolled": true
   },
   "outputs": [
    {
     "name": "stdout",
     "output_type": "stream",
     "text": [
      "Introduce palabra: patata\n",
      "La primera letra es minuscula\n"
     ]
    }
   ],
   "source": [
    "palabra = input('Introduce palabra: ')\n",
    "if palabra[0] >= 'A' and palabra[0] <= 'Z':\n",
    "    print ('La primera letra es mayúscula')\n",
    "else:\n",
    "    print ('La primera letra es minuscula')"
   ]
  },
  {
   "cell_type": "markdown",
   "id": "35873616",
   "metadata": {},
   "source": [
    "###  Ejercicio 2"
   ]
  },
  {
   "cell_type": "markdown",
   "id": "307f8ba1",
   "metadata": {},
   "source": [
    "__Ejercicio 9__ Algoritmo que pida tres números y los muestre ordenados (de mayor a menor);\n"
   ]
  },
  {
   "cell_type": "code",
   "execution_count": 3,
   "id": "6e56a44b",
   "metadata": {},
   "outputs": [
    {
     "name": "stdout",
     "output_type": "stream",
     "text": [
      "Introduce n1: 1\n",
      "Introduce n2: 2\n",
      "Introduce n3: 3\n",
      "3 > 2 > 1\n"
     ]
    }
   ],
   "source": [
    "n1 = int(input('Introduce n1: '))\n",
    "n2 = int(input('Introduce n2: '))\n",
    "n3 = int(input('Introduce n3: '))\n",
    "if n1 > n2 and n1 > n3:\n",
    "    if n2 > n3:\n",
    "        print (n1, '>' ,n2, '>' ,n3)\n",
    "    else:\n",
    "        print (n1, '>' ,n3, '>' ,n2)\n",
    "        \n",
    "elif n2 > n1 and n2 > n3:\n",
    "        if n1 > n3:\n",
    "            print (n2, '>' ,n1, '>' ,n3)\n",
    "        else:\n",
    "            print (n2, '>' ,n3, '>' ,n1)\n",
    "else:\n",
    "    if n1 > n2:\n",
    "        print (n3, '>' ,n1, '>' ,n2)\n",
    "    else:\n",
    "        print (n3, '>' ,n2, '>' ,n1)"
   ]
  },
  {
   "cell_type": "markdown",
   "id": "aab336c7",
   "metadata": {},
   "source": [
    "##  Ejercicios estructuras repetitivas"
   ]
  },
  {
   "cell_type": "markdown",
   "id": "d63e63a7",
   "metadata": {},
   "source": [
    "###  Ejercicio 1"
   ]
  },
  {
   "cell_type": "markdown",
   "id": "9c0a8d88",
   "metadata": {},
   "source": [
    "__Ejercicio 4__ Realizar un algoritmo que pida números (se pedirá por teclado la cantidad de números a introducir). El programa debe informar de cuantos números introducidos son mayores que 0, menores que 0 e iguales a 0."
   ]
  },
  {
   "cell_type": "markdown",
   "id": "4d873b55",
   "metadata": {},
   "source": [
    "__While:__ "
   ]
  },
  {
   "cell_type": "code",
   "execution_count": 1,
   "id": "f1b25a27",
   "metadata": {
    "scrolled": false
   },
   "outputs": [
    {
     "name": "stdout",
     "output_type": "stream",
     "text": [
      "Introduce max: 3\n",
      "Introduce num: 0\n",
      "Introduce num: 1\n",
      "Introduce num: -1\n",
      "Menor0:  1 Igual0:  1 Mayor0:  1\n"
     ]
    }
   ],
   "source": [
    "max = int(input('Introduce max: '))\n",
    "i = 0\n",
    "menor0 = 0\n",
    "igual0 = 0\n",
    "mayor0 = 0\n",
    "while i < max:\n",
    "    num = int(input('Introduce num: '))\n",
    "    if num < 0:\n",
    "        menor0+=1\n",
    "    elif num == 0:\n",
    "        igual0+=1\n",
    "    else:\n",
    "        mayor0+=1\n",
    "    i+=1\n",
    "print ('Menor0: ',menor0,'Igual0: ',igual0,'Mayor0: ', mayor0)"
   ]
  },
  {
   "cell_type": "markdown",
   "id": "0bbe4d23",
   "metadata": {},
   "source": [
    "__For:__ "
   ]
  },
  {
   "cell_type": "code",
   "execution_count": 2,
   "id": "79aaa840",
   "metadata": {},
   "outputs": [
    {
     "name": "stdout",
     "output_type": "stream",
     "text": [
      "Introduce max: 3\n",
      "Introduce num: 0\n",
      "Introduce num: 1\n",
      "Introduce num: -1\n",
      "Menor0:  1 Igual0:  1 Mayor0:  1\n"
     ]
    }
   ],
   "source": [
    "max = int(input('Introduce max: '))\n",
    "menor0 = 0\n",
    "igual0 = 0\n",
    "mayor0 = 0\n",
    "for i in range(0,max):\n",
    "    num = int(input('Introduce num: '))\n",
    "    if num < 0:\n",
    "        menor0+=1\n",
    "    elif num == 0:\n",
    "        igual0+=1\n",
    "    else:\n",
    "        mayor0+=1\n",
    "print ('Menor0: ',menor0,'Igual0: ',igual0,'Mayor0: ', mayor0)"
   ]
  },
  {
   "cell_type": "markdown",
   "id": "d64d185c",
   "metadata": {},
   "source": [
    "###  Ejercicio 2"
   ]
  },
  {
   "cell_type": "markdown",
   "id": "333e0600",
   "metadata": {},
   "source": [
    "__Ejercicio 11__ Escribe un programa que diga si un número introducido por teclado es o no primo. Un número primo es aquel que sólo es divisible entre él mismo y la unidad. Nota: Es suficiente probar hasta la raíz cuadrada del número para ver si es divisible por algún otro número."
   ]
  },
  {
   "cell_type": "markdown",
   "id": "949d26b0",
   "metadata": {},
   "source": [
    "__While:__ "
   ]
  },
  {
   "cell_type": "code",
   "execution_count": 20,
   "id": "6ab2e06f",
   "metadata": {},
   "outputs": [
    {
     "name": "stdout",
     "output_type": "stream",
     "text": [
      "Introduce num: 5\n",
      "Es primo\n"
     ]
    }
   ],
   "source": [
    "num = int(input('Introduce num: '))\n",
    "raiz = int(num**0.5) #potencia de 0.5\n",
    "primo = True\n",
    "while i < raiz+1:\n",
    "    if num % i == 0:\n",
    "        primo = False\n",
    "    i+=1\n",
    "salida = \"Es primo\" if primo else \"No es primo\"\n",
    "print(salida)"
   ]
  },
  {
   "cell_type": "markdown",
   "id": "0e0fc59f",
   "metadata": {},
   "source": [
    "__For:__ "
   ]
  },
  {
   "cell_type": "code",
   "execution_count": 22,
   "id": "ffb2ecdf",
   "metadata": {},
   "outputs": [
    {
     "name": "stdout",
     "output_type": "stream",
     "text": [
      "Introduce num: 15\n",
      "No es primo\n"
     ]
    }
   ],
   "source": [
    "num = int(input('Introduce num: '))\n",
    "raiz = int(num**0.5)\n",
    "primo = True\n",
    "for i in range(2,raiz+1):\n",
    "    if num % i == 0:\n",
    "        primo = False\n",
    "salida = \"Es primo\" if primo else \"No es primo\"\n",
    "print(salida)"
   ]
  },
  {
   "cell_type": "markdown",
   "id": "20aaf969",
   "metadata": {},
   "source": [
    "##  Ejercicios cadenas de carácteres"
   ]
  },
  {
   "cell_type": "markdown",
   "id": "036d2a15",
   "metadata": {},
   "source": [
    "###  Ejercicio 1"
   ]
  },
  {
   "cell_type": "markdown",
   "id": "49806aed",
   "metadata": {},
   "source": [
    "__Ejercicio 9__ Realizar un programa que compruebe si una cadena contiene una subcadena. Las dos cadenas se introducen por teclado.\n"
   ]
  },
  {
   "cell_type": "code",
   "execution_count": 5,
   "id": "e49e5d7e",
   "metadata": {
    "scrolled": true
   },
   "outputs": [
    {
     "name": "stdout",
     "output_type": "stream",
     "text": [
      "Introduce cadena: Hola!\n",
      "Introduce subcadena: !\n",
      "!  es una subcadena de  Hola!\n"
     ]
    }
   ],
   "source": [
    "cadena = input('Introduce cadena: ')\n",
    "subcadena = input('Introduce subcadena: ')\n",
    "\n",
    "if cadena.find(subcadena) > -1:\n",
    "    print (subcadena, ' es una subcadena de ' , cadena)\n",
    "else:\n",
    "    print (subcadena, ' NO es una subcadena de ' , cadena)"
   ]
  },
  {
   "cell_type": "markdown",
   "id": "052f908c",
   "metadata": {},
   "source": [
    "###  Ejercicio 2"
   ]
  },
  {
   "cell_type": "markdown",
   "id": "2866f82b",
   "metadata": {},
   "source": [
    "__Ejercicio 10__ Introducir una cadena de caracteres e indicar si es un palíndromo. Una palabra palíndroma es aquella que se lee igual adelante que atrás.\n"
   ]
  },
  {
   "cell_type": "code",
   "execution_count": 12,
   "id": "3a920844",
   "metadata": {},
   "outputs": [
    {
     "name": "stdout",
     "output_type": "stream",
     "text": [
      "Introduce cadena: otto\n",
      "Es palíndroma\n"
     ]
    }
   ],
   "source": [
    "cadena = input('Introduce cadena: ')\n",
    "cadenaAlReves = \"\"\n",
    "for letra in cadena:\n",
    "    cadenaAlReves = letra + cadenaAlReves\n",
    "if cadena == cadenaAlReves:\n",
    "    print ('Es palíndroma')\n",
    "else:\n",
    "    print ('NO es palíndroma')\n",
    "        "
   ]
  },
  {
   "cell_type": "markdown",
   "id": "699098a0",
   "metadata": {},
   "source": [
    "##  Ejercicios de listas"
   ]
  },
  {
   "cell_type": "markdown",
   "id": "83fe4dee",
   "metadata": {},
   "source": [
    "###  Ejercicio 1"
   ]
  },
  {
   "cell_type": "markdown",
   "id": "0dbe21ab",
   "metadata": {},
   "source": [
    "__Ejercicio 3__ Se quiere realizar un programa que lea por teclado las 5 notas obtenidas por un alumno (comprendidas entre 0 y 10). A continuación debe mostrar todas las notas, la nota media, la nota más alta que ha sacado y la menor.\n"
   ]
  },
  {
   "cell_type": "code",
   "execution_count": 13,
   "id": "629ea164",
   "metadata": {
    "scrolled": true
   },
   "outputs": [
    {
     "name": "stdout",
     "output_type": "stream",
     "text": [
      "Introduce nota (0 - 10): 1\n",
      "Introduce nota (0 - 10): 5\n",
      "Introduce nota (0 - 10): 10\n",
      "Introduce nota (0 - 10): 7\n",
      "Introduce nota (0 - 10): 4\n",
      "notaMedia:  5.4 notaMayor:  10 notaMenor:  1\n"
     ]
    }
   ],
   "source": [
    "notas = [0]*5\n",
    "notaMedia = 0\n",
    "totalNotas = 0\n",
    "notaMayor = 0\n",
    "notaMenor = 11\n",
    "\n",
    "for nota in notas:\n",
    "    nota = int(input('Introduce nota (0 - 10): '))\n",
    "    if nota > notaMayor:\n",
    "        notaMayor = nota\n",
    "    if nota < notaMenor:\n",
    "        notaMenor = nota\n",
    "    totalNotas += nota\n",
    "notaMedia = totalNotas / 5\n",
    "print ('notaMedia: ',notaMedia,'notaMayor: ',notaMayor,'notaMenor: ', notaMenor)"
   ]
  },
  {
   "cell_type": "markdown",
   "id": "fd69b529",
   "metadata": {},
   "source": [
    "###  Ejercicio 2"
   ]
  },
  {
   "cell_type": "markdown",
   "id": "6b33336d",
   "metadata": {},
   "source": [
    "__Ejercicio 5__ Hacer un programa que inicialice una lista de números con valores aleatorios (10 valores), y posterior ordene los elementos de menor a mayor."
   ]
  },
  {
   "cell_type": "markdown",
   "id": "33f6b1c6",
   "metadata": {},
   "source": [
    "__Opción 1__ Usando enumerate permite añadir elementos a la lista mientras la recorres "
   ]
  },
  {
   "cell_type": "code",
   "execution_count": 25,
   "id": "d62b8e56",
   "metadata": {},
   "outputs": [
    {
     "name": "stdout",
     "output_type": "stream",
     "text": [
      "Antes: \n",
      "5\n",
      "86\n",
      "87\n",
      "87\n",
      "9\n",
      "100\n",
      "66\n",
      "43\n",
      "2\n",
      "63\n",
      "Despues: \n",
      "2\n",
      "5\n",
      "9\n",
      "43\n",
      "63\n",
      "66\n",
      "86\n",
      "87\n",
      "87\n",
      "100\n"
     ]
    }
   ],
   "source": [
    "import random\n",
    "lista = [0]*10\n",
    "print ('Antes: ')\n",
    "for i, elemento in enumerate((lista)):\n",
    "    lista[i] = (random.randint(0, 100))\n",
    "    print(lista[i])\n",
    "lista.sort()\n",
    "print ('Despues: ')\n",
    "for item in lista:\n",
    "    print(item)"
   ]
  },
  {
   "cell_type": "markdown",
   "id": "b4c81762",
   "metadata": {},
   "source": [
    "__Opción 2__ Usando for normal y añadiendo con append"
   ]
  },
  {
   "cell_type": "code",
   "execution_count": 26,
   "id": "dc82a86e",
   "metadata": {},
   "outputs": [
    {
     "name": "stdout",
     "output_type": "stream",
     "text": [
      "Antes: \n",
      "56\n",
      "50\n",
      "82\n",
      "8\n",
      "88\n",
      "0\n",
      "30\n",
      "96\n",
      "44\n",
      "80\n",
      "Despues: \n",
      "0\n",
      "8\n",
      "30\n",
      "44\n",
      "50\n",
      "56\n",
      "80\n",
      "82\n",
      "88\n",
      "96\n"
     ]
    }
   ],
   "source": [
    "import random\n",
    "lista = []\n",
    "print ('Antes: ')\n",
    "for i in range(0,10):\n",
    "    lista.append(random.randint(0, 100))\n",
    "    print(lista[i])\n",
    "lista.sort()\n",
    "print ('Despues: ')\n",
    "for item in lista:\n",
    "    print(item)"
   ]
  },
  {
   "cell_type": "markdown",
   "id": "d0b02d45",
   "metadata": {},
   "source": [
    "###  Ejercicio 3"
   ]
  },
  {
   "cell_type": "markdown",
   "id": "6aeb8315",
   "metadata": {},
   "source": [
    "__Ejercicio 11__ Diseñar el algoritmo correspondiente a un programa, que:\n",
    "- Crea una tabla bidimensional de longitud 5x5 y nombre ‘diagonal’.\n",
    "- Carga la tabla de forma que los componentes pertenecientes a la diagonal de la matriz tomen el valor 1 y el resto el valor 0.\n",
    "- Muestra el contenido de la tabla en pantalla.\n"
   ]
  },
  {
   "cell_type": "code",
   "execution_count": 37,
   "id": "257418fc",
   "metadata": {
    "scrolled": true
   },
   "outputs": [
    {
     "name": "stdout",
     "output_type": "stream",
     "text": [
      "10000\n",
      "01000\n",
      "00100\n",
      "00010\n",
      "00001\n"
     ]
    }
   ],
   "source": [
    "diagonal = [[0]*5,[0]*5,[0]*5,[0]*5,[0]*5]\n",
    "for i in range(0,5):\n",
    "    diagonal[i][i] = 1\n",
    "for fila in diagonal:\n",
    "    for elem in fila:\n",
    "        print(elem,end=\"\") \n",
    "    print()"
   ]
  },
  {
   "cell_type": "markdown",
   "id": "5b9fbc9c",
   "metadata": {},
   "source": [
    "##  Ejercicios de diccionarios"
   ]
  },
  {
   "cell_type": "markdown",
   "id": "7d153dee",
   "metadata": {},
   "source": [
    "###  Ejercicio 1"
   ]
  },
  {
   "cell_type": "markdown",
   "id": "8d4720f4",
   "metadata": {},
   "source": [
    "__Ejercicio 1__ Escribe un programa python que pida un número por teclado y que cree un diccionario cuyas claves sean desde el número 1 hasta el número indicado, y los valores sean los cuadrados de las claves."
   ]
  },
  {
   "cell_type": "code",
   "execution_count": 5,
   "id": "e2f8561e",
   "metadata": {
    "scrolled": true
   },
   "outputs": [
    {
     "name": "stdout",
     "output_type": "stream",
     "text": [
      "Introduce cadena: Hola!\n",
      "Introduce subcadena: !\n",
      "!  es una subcadena de  Hola!\n"
     ]
    }
   ],
   "source": [
    "cadena = input('Introduce cadena: ')\n",
    "subcadena = input('Introduce subcadena: ')\n",
    "\n",
    "if cadena.find(subcadena) > -1:\n",
    "    print (subcadena, ' es una subcadena de ' , cadena)\n",
    "else:\n",
    "    print (subcadena, ' NO es una subcadena de ' , cadena)"
   ]
  },
  {
   "cell_type": "markdown",
   "id": "66d22077",
   "metadata": {},
   "source": [
    "###  Ejercicio 2"
   ]
  },
  {
   "cell_type": "markdown",
   "id": "224a103f",
   "metadata": {},
   "source": [
    "__Ejercicio 10__ Introducir una cadena de caracteres e indicar si es un palíndromo. Una palabra palíndroma es aquella que se lee igual adelante que atrás.\n"
   ]
  },
  {
   "cell_type": "code",
   "execution_count": 12,
   "id": "787b2669",
   "metadata": {},
   "outputs": [
    {
     "name": "stdout",
     "output_type": "stream",
     "text": [
      "Introduce cadena: otto\n",
      "Es palíndroma\n"
     ]
    }
   ],
   "source": [
    "cadena = input('Introduce cadena: ')\n",
    "cadenaAlReves = \"\"\n",
    "for letra in cadena:\n",
    "    cadenaAlReves = letra + cadenaAlReves\n",
    "if cadena == cadenaAlReves:\n",
    "    print ('Es palíndroma')\n",
    "else:\n",
    "    print ('NO es palíndroma')\n",
    "        "
   ]
  }
 ],
 "metadata": {
  "kernelspec": {
   "display_name": "Python 3 (ipykernel)",
   "language": "python",
   "name": "python3"
  },
  "language_info": {
   "codemirror_mode": {
    "name": "ipython",
    "version": 3
   },
   "file_extension": ".py",
   "mimetype": "text/x-python",
   "name": "python",
   "nbconvert_exporter": "python",
   "pygments_lexer": "ipython3",
   "version": "3.10.8"
  }
 },
 "nbformat": 4,
 "nbformat_minor": 5
}
