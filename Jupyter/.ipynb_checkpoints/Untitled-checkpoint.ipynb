{
 "cells": [
  {
   "cell_type": "markdown",
   "id": "86baec00",
   "metadata": {},
   "source": [
    "#  Instalación de Jupyter notebook y algunos ejercicios"
   ]
  },
  {
   "cell_type": "markdown",
   "id": "8df72183",
   "metadata": {},
   "source": [
    "##  Índice"
   ]
  },
  {
   "cell_type": "markdown",
   "id": "0f569716",
   "metadata": {},
   "source": [
    "- [Instalación](#Instalación)  \n",
    "- [Ejercicios estructura secuencial](#Ejercicios-estructura-secuencial)\n",
    "- [Ejercicios estructura alternativas](#Ejercicios-estructura-alternativas)"
   ]
  },
  {
   "cell_type": "markdown",
   "id": "f584e3cc",
   "metadata": {},
   "source": [
    "##  Instalación"
   ]
  },
  {
   "cell_type": "markdown",
   "id": "02fd97c2",
   "metadata": {},
   "source": [
    "- Descargar __python__ y añadirlo al path de Windows.\n",
    "- Instalar el gestor de paquetes __pip__ descargándolo del siguiente modo:\n",
    "    - `curl https://bootstrap.pypa.io/get-pip.py> get-pip.py`\n",
    "- Ejecutar el siguiente comando:\n",
    "    - `python get-pip.py`\n",
    "    - Comprobar que la versión de pip está instalada: `pip --version`\n",
    "- Ejecutar __jupyter__:\n",
    "    - `pip install jupyter`\n",
    "- Situarse en la carpeta \"Jupyter\" previamente creada y ejecutar:\n",
    "    - `jupyter notebook`\n",
    "    "
   ]
  },
  {
   "cell_type": "markdown",
   "id": "80852652",
   "metadata": {},
   "source": [
    "##  Ejercicios estructura secuencial"
   ]
  },
  {
   "cell_type": "markdown",
   "id": "43796d62",
   "metadata": {},
   "source": [
    "###  Ejercicio 1"
   ]
  },
  {
   "cell_type": "markdown",
   "id": "e3223e63",
   "metadata": {},
   "source": [
    "__Ejercicio 7:__ Realiza un programa que reciba una cantidad de minutos y muestre por pantalla a cuantas horas y minutos corresponde. Por ejemplo: 1000 minutos son 16 horas y 40 minutos.\n"
   ]
  },
  {
   "cell_type": "code",
   "execution_count": 33,
   "id": "3c9cfaf5",
   "metadata": {
    "scrolled": true
   },
   "outputs": [
    {
     "name": "stdout",
     "output_type": "stream",
     "text": [
      "Introduce minutos: 433\n",
      "433  minutos son:  7 horas y  13 minutos\n"
     ]
    }
   ],
   "source": [
    "min = int(input('Introduce minutos: '))\n",
    "print (min, ' minutos son: ' , (min // 60) , 'horas y ' , (min % 60) , 'minutos')"
   ]
  },
  {
   "cell_type": "markdown",
   "id": "9d5e453e",
   "metadata": {},
   "source": [
    "###  Ejercicio 2"
   ]
  },
  {
   "cell_type": "markdown",
   "id": "453d96ba",
   "metadata": {},
   "source": [
    "__Ejercicio 18:__ Pedir el nombre y los dos apellidos de una persona y mostrar las iniciales.\n"
   ]
  },
  {
   "cell_type": "code",
   "execution_count": 28,
   "id": "09b8d647",
   "metadata": {
    "scrolled": false
   },
   "outputs": [
    {
     "name": "stdout",
     "output_type": "stream",
     "text": [
      "Introduce nombre: Álvaro\n",
      "Introduce primer apellido: Ausaberri\n",
      "Introduce segundo apellido: Rodríguez\n",
      "ÁAR\n"
     ]
    }
   ],
   "source": [
    "n = input('Introduce nombre: ')\n",
    "a1 = input('Introduce primer apellido: ')\n",
    "a2 = input('Introduce segundo apellido: ')\n",
    "print (n[:1]+a1[:1]+a2[:1])"
   ]
  },
  {
   "cell_type": "markdown",
   "id": "1a053361",
   "metadata": {},
   "source": [
    "##  Ejercicios estructuras alternativas"
   ]
  },
  {
   "cell_type": "markdown",
   "id": "d4e6d37b",
   "metadata": {},
   "source": [
    "###  Ejercicio 1"
   ]
  },
  {
   "cell_type": "markdown",
   "id": "10939db8",
   "metadata": {},
   "source": [
    "__Ejercicio 6:__ Programa que lea una cadena por teclado y compruebe si es una letra mayúscula.\n"
   ]
  },
  {
   "cell_type": "code",
   "execution_count": 2,
   "id": "fa277b95",
   "metadata": {},
   "outputs": [
    {
     "name": "stdout",
     "output_type": "stream",
     "text": [
      "Introduce palabra: patata\n",
      "La primera letra es minuscula\n"
     ]
    }
   ],
   "source": [
    "palabra = input('Introduce palabra: ')\n",
    "if palabra[0] >= 'A' and palabra[0] <= 'Z':\n",
    "    print ('La primera letra es mayúscula')\n",
    "else:\n",
    "    print ('La primera letra es minuscula')"
   ]
  },
  {
   "cell_type": "code",
   "execution_count": null,
   "id": "be05b7e2",
   "metadata": {},
   "outputs": [],
   "source": []
  }
 ],
 "metadata": {
  "kernelspec": {
   "display_name": "Python 3 (ipykernel)",
   "language": "python",
   "name": "python3"
  },
  "language_info": {
   "codemirror_mode": {
    "name": "ipython",
    "version": 3
   },
   "file_extension": ".py",
   "mimetype": "text/x-python",
   "name": "python",
   "nbconvert_exporter": "python",
   "pygments_lexer": "ipython3",
   "version": "3.10.8"
  }
 },
 "nbformat": 4,
 "nbformat_minor": 5
}
