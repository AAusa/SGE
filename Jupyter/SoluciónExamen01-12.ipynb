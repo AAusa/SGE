{
 "cells": [
  {
   "cell_type": "markdown",
   "id": "106f446b",
   "metadata": {},
   "source": [
    "# Exámen 01/12/2022 SGE\n",
    "El exámen consta de un total de 25 puntos, de los que se muestra la puntuación a continuación "
   ]
  },
  {
   "cell_type": "markdown",
   "id": "f69d5b1e",
   "metadata": {},
   "source": [
    "## Ejercicio 1 \n",
    "Crea un menú, de manera que se enlacen todos los ejercicios que se pidan en esta libreta. Crea el menú antes de este ejercicio (incluído este ejercicio) (**1 punto**)"
   ]
  },
  {
   "cell_type": "markdown",
   "id": "637a2c97",
   "metadata": {},
   "source": [
    "## Ejercicio 2 \n",
    "Crea una función que fuerce a un usuario a devolver un valor entre 90 y 110. La función debe tener por nombre **pideNúmero** (**1 punto**)"
   ]
  },
  {
   "cell_type": "code",
   "execution_count": 7,
   "id": "0cde7a1c",
   "metadata": {},
   "outputs": [
    {
     "name": "stdout",
     "output_type": "stream",
     "text": [
      "intro número: 100\n",
      "100\n"
     ]
    }
   ],
   "source": [
    "# def pideNumero():\n",
    "#     num = int(input('intro número: '))\n",
    "#     while num >110 or num <90:\n",
    "#         num = int(input('intro número: '))\n",
    "#     return num\n",
    "\n",
    "def pideNumero():\n",
    "    num = int(input('intro número: '))\n",
    "    if num <=110 and num >=90:\n",
    "        return num \n",
    "    else:\n",
    "        pideNumero()\n",
    "\n",
    "a= pideNumero()\n",
    "print(a)"
   ]
  },
  {
   "cell_type": "markdown",
   "id": "a06d8b03",
   "metadata": {},
   "source": [
    "## Ejercicio 3\n",
    "Crea una función de manera que dado un número entero por parámetro devuelva una lista del tamaño dado por parámetro. Cada uno de los valores de la lista debe ser un número aleatorio entre 0 y el número pasado por parámetro. La función debe tener por nombre **generaListaAleatoria** (**1 punto**)"
   ]
  },
  {
   "cell_type": "code",
   "execution_count": 9,
   "id": "70c64f08",
   "metadata": {},
   "outputs": [
    {
     "name": "stdout",
     "output_type": "stream",
     "text": [
      "intro número: 100\n",
      "[15, 91, 84, 73, 21, 79, 58, 44, 45, 2, 21, 7, 5, 31, 44, 84, 3, 48, 90, 43, 71, 99, 26, 3, 9, 65, 19, 5, 43, 26, 34, 66, 67, 25, 28, 13, 77, 94, 91, 68, 85, 63, 21, 2, 7, 36, 20, 97, 18, 15, 48, 42, 68, 93, 44, 41, 20, 38, 94, 83, 99, 17, 10, 16, 46, 84, 30, 39, 18, 25, 68, 76, 66, 96, 67, 50, 39, 88, 98, 31, 56, 88, 2, 19, 84, 90, 97, 11, 82, 69, 8, 90, 76, 64, 48, 76, 18, 73, 46, 68]\n"
     ]
    }
   ],
   "source": [
    "import random\n",
    "def generaListaAleatoria(numero):\n",
    "    lista=[]\n",
    "    for i in range(numero):\n",
    "        lista.append(random.randint(0,numero))\n",
    "    return lista\n",
    "\n",
    "\n",
    "\n",
    "numero = pideNumero()\n",
    "listaAleatoria = generaListaAleatoria(numero)\n",
    "print(listaAleatoria)"
   ]
  },
  {
   "cell_type": "markdown",
   "id": "1b7cea53",
   "metadata": {},
   "source": [
    "## Ejercicio 4\n",
    "Crea una función que tenga por parámetro una lista (será del tipo **listaAleatoria**) y devuelva una lista de elementos repetidos en la lista. \n",
    "\n",
    "Ej: Si mi lista es [1,2,2,3,4,5,5,6], la función debe devolver [2,5]. La función tendrá por nombre **elementosRepetidos** (**1 puntos**)\n"
   ]
  },
  {
   "cell_type": "code",
   "execution_count": 12,
   "id": "bef46465",
   "metadata": {},
   "outputs": [],
   "source": [
    "# def elementosRepetidos(lista):\n",
    "#     res = []\n",
    "#     for el in lista:\n",
    "#         if lista.count(el) > 1 and el not in res:\n",
    "#             res.append(el)\n",
    "#     return res"
   ]
  },
  {
   "cell_type": "code",
   "execution_count": 10,
   "id": "c68c7254",
   "metadata": {},
   "outputs": [],
   "source": [
    "def elementosRepetidos(lista):\n",
    "    listaNuevos = []\n",
    "    listaRepetidos = []\n",
    "    \n",
    "    for el in lista:\n",
    "        if el in listaNuevos and el not in listaRepetidos:\n",
    "            listaRepetidos.append(el)\n",
    "        else: \n",
    "            listaNuevos.append(el)\n",
    "    return listaRepetidos"
   ]
  },
  {
   "cell_type": "code",
   "execution_count": 17,
   "id": "9872ab94",
   "metadata": {},
   "outputs": [
    {
     "data": {
      "text/plain": [
       "[0,\n",
       " 29,\n",
       " 38,\n",
       " 10,\n",
       " 68,\n",
       " 39,\n",
       " 22,\n",
       " 54,\n",
       " 48,\n",
       " 94,\n",
       " 88,\n",
       " 64,\n",
       " 56,\n",
       " 82,\n",
       " 2,\n",
       " 16,\n",
       " 70,\n",
       " 69,\n",
       " 31,\n",
       " 27,\n",
       " 76,\n",
       " 86,\n",
       " 65]"
      ]
     },
     "execution_count": 17,
     "metadata": {},
     "output_type": "execute_result"
    }
   ],
   "source": [
    "elementosRepetidos(listaAleatoria)"
   ]
  },
  {
   "cell_type": "markdown",
   "id": "d32dc9c7",
   "metadata": {},
   "source": [
    "## Ejercicio 5 \n",
    "Crea una función que tenga por parámetro una lista (será del tipo **listaAleatoria**), y devuelva una lista con los valores enteros de tamaño menor o igual que el tamaño de la lista que no aparecen en la lista. La función tendrá por nombre **elementosFaltantes** (**1 punto**)"
   ]
  },
  {
   "cell_type": "code",
   "execution_count": null,
   "id": "8218eef9",
   "metadata": {},
   "outputs": [],
   "source": [
    "# def elementosFaltantes(lista):\n",
    "#     res = []\n",
    "#     for el in range(len(lista)):\n",
    "#         if lista.count(el) < 1:\n",
    "#             res.append(el)\n",
    "#     return res"
   ]
  },
  {
   "cell_type": "code",
   "execution_count": 11,
   "id": "94adaf4c",
   "metadata": {},
   "outputs": [],
   "source": [
    "def elementosFaltantes(lista):\n",
    "    res = []\n",
    "    for el in range(len(lista)):\n",
    "        if el not in lista:\n",
    "            res.append(el)\n",
    "    return res"
   ]
  },
  {
   "cell_type": "code",
   "execution_count": 12,
   "id": "7e8c192a",
   "metadata": {},
   "outputs": [
    {
     "name": "stdout",
     "output_type": "stream",
     "text": [
      "[0, 1, 4, 6, 12, 14, 22, 23, 24, 27, 29, 32, 33, 35, 37, 40, 47, 49, 51, 52, 53, 54, 55, 57, 59, 60, 61, 62, 70, 72, 74, 75, 78, 80, 81, 86, 87, 89, 92, 95]\n"
     ]
    }
   ],
   "source": [
    "print(elementosFaltantes(listaAleatoria))"
   ]
  },
  {
   "cell_type": "markdown",
   "id": "d9bad251",
   "metadata": {},
   "source": [
    "## Ejercicio 6 \n",
    "**Haciendo uso de las dos funciones anteriores**, crea una función que devuelva los elementos que solo aparecen una vez en listaAleatoria. La función tendrá por nombre **elementosUnicos** (**1 punto**)\n"
   ]
  },
  {
   "cell_type": "code",
   "execution_count": 13,
   "id": "95c80229",
   "metadata": {},
   "outputs": [],
   "source": [
    "def elementosUnicos(lista):\n",
    "    res = []\n",
    "    for el in range(len(lista)):\n",
    "        if el not in elementosFaltantes(lista) and el not in elementosRepetidos(lista):\n",
    "            res.append(el)\n",
    "    return res"
   ]
  },
  {
   "cell_type": "markdown",
   "id": "0d41b817",
   "metadata": {},
   "source": [
    "## Ejercicio 7\n",
    "Crea una función de modo que tenga por parámetro una lista (será del tipo **listaAleatoria**) y devuelva un diccionario que tenga por clave un el número de veces que aparece un número y por valor una lista con los números que aparecen repetidos en la lista ese número de veces **diccionarioCuenta** (**2 puntos**)"
   ]
  },
  {
   "cell_type": "code",
   "execution_count": 16,
   "id": "5e121370",
   "metadata": {},
   "outputs": [],
   "source": [
    "def diccionarioCuenta(lista):\n",
    "    dicc = {}\n",
    "    maximo = 0\n",
    "    for el in lista:\n",
    "        if lista.count(el) > maximo:\n",
    "            maximo = lista.count(el)\n",
    "    for i in range(maximo+1):\n",
    "        listaI = []\n",
    "        for el in lista: # for el in range(len(lista))\n",
    "            if lista.count(el) == i and el not in listaI:\n",
    "                listaI.append(el)\n",
    "        dicc[i]=listaI\n",
    "    return dicc\n",
    "        \n",
    "        "
   ]
  },
  {
   "cell_type": "code",
   "execution_count": 17,
   "id": "0db99007",
   "metadata": {},
   "outputs": [
    {
     "data": {
      "text/plain": [
       "{0: [],\n",
       " 1: [79,\n",
       "  58,\n",
       "  45,\n",
       "  71,\n",
       "  9,\n",
       "  65,\n",
       "  34,\n",
       "  28,\n",
       "  13,\n",
       "  77,\n",
       "  85,\n",
       "  63,\n",
       "  36,\n",
       "  42,\n",
       "  93,\n",
       "  41,\n",
       "  38,\n",
       "  83,\n",
       "  17,\n",
       "  10,\n",
       "  16,\n",
       "  30,\n",
       "  96,\n",
       "  50,\n",
       "  98,\n",
       "  56,\n",
       "  11,\n",
       "  82,\n",
       "  69,\n",
       "  8,\n",
       "  64],\n",
       " 2: [15,\n",
       "  91,\n",
       "  73,\n",
       "  7,\n",
       "  5,\n",
       "  31,\n",
       "  3,\n",
       "  43,\n",
       "  99,\n",
       "  26,\n",
       "  19,\n",
       "  66,\n",
       "  67,\n",
       "  25,\n",
       "  94,\n",
       "  20,\n",
       "  97,\n",
       "  46,\n",
       "  39,\n",
       "  88],\n",
       " 3: [21, 44, 2, 48, 90, 18, 76],\n",
       " 4: [84, 68]}"
      ]
     },
     "execution_count": 17,
     "metadata": {},
     "output_type": "execute_result"
    }
   ],
   "source": [
    "diccionarioCuenta(listaAleatoria)"
   ]
  },
  {
   "cell_type": "code",
   "execution_count": 32,
   "id": "378a57a9",
   "metadata": {},
   "outputs": [
    {
     "name": "stdout",
     "output_type": "stream",
     "text": [
      "[8, 9, 10, 11, 13, 16, 17, 28, 30, 34, 36, 38, 41, 42, 45, 50, 56, 58, 63, 64, 65, 69, 71, 77, 79, 82, 83, 85, 93, 96, 98]\n",
      "[21, 44, 84, 3, 5, 43, 26, 91, 2, 7, 15, 48, 68, 20, 94, 99, 18, 25, 66, 67, 39, 31, 88, 19, 90, 97, 76, 73, 46]\n",
      "[0, 1, 4, 6, 12, 14, 22, 23, 24, 27, 29, 32, 33, 35, 37, 40, 47, 49, 51, 52, 53, 54, 55, 57, 59, 60, 61, 62, 70, 72, 74, 75, 78, 80, 81, 86, 87, 89, 92, 95]\n",
      "set()\n",
      "set()\n",
      "set()\n",
      "100\n"
     ]
    }
   ],
   "source": [
    "#Comprobación de que las funciones funcionan correctamente\n",
    "print(elementosUnicos(listaAleatoria))\n",
    "print(elementosRepetidos(listaAleatoria))\n",
    "print(elementosFaltantes(listaAleatoria))\n",
    "\n",
    "\n",
    "#Convierto lista a conjunto y hago intersección de conjuntos\n",
    "print(set(elementosUnicos(listaAleatoria)) & set(elementosRepetidos(listaAleatoria)))\n",
    "print(set(elementosUnicos(listaAleatoria)) & set(elementosFaltantes(listaAleatoria)))\n",
    "print(set(elementosFaltantes(listaAleatoria)) & set(elementosRepetidos(listaAleatoria)))\n",
    "\n",
    "print(len(elementosUnicos(listaAleatoria))+len(elementosRepetidos(listaAleatoria))+len(elementosFaltantes(listaAleatoria)))   \n",
    "\n"
   ]
  },
  {
   "cell_type": "markdown",
   "id": "3641780f",
   "metadata": {},
   "source": [
    "## Ejercicio 8\n",
    "Crea una función que devuelva una lista bidimensional aleatoria de tamaño 16x16 en los que cada uno de los elementos de la lista sea un caracter ASCII aleatorio (hay un total de 256 caracteres ASCII). Tal función se deberá llamar **aleatoriaASCII** (**1punto**)\n",
    "\n",
    "**Pista :**  Puedes tener en cuenta que la función chr() convierte un entero a un caracter y que la función ord() convierte un caracter a un entero"
   ]
  },
  {
   "cell_type": "code",
   "execution_count": 4,
   "id": "e2c1f778",
   "metadata": {},
   "outputs": [
    {
     "name": "stdout",
     "output_type": "stream",
     "text": [
      "A\n",
      "100\n",
      "65\n",
      "d\n"
     ]
    }
   ],
   "source": [
    "print(chr(ord('A')))\n",
    "print(ord(chr(100)))\n",
    "print(ord('A'))\n",
    "print(chr(100))"
   ]
  },
  {
   "cell_type": "code",
   "execution_count": 1,
   "id": "c8241570",
   "metadata": {},
   "outputs": [],
   "source": [
    "import random\n",
    "def aleatoriaAscii():\n",
    "    matriz = []\n",
    "    for fila in range(16):\n",
    "        f = []\n",
    "        for el in range(16):\n",
    "            f.append(chr(random.randint(0,256)))\n",
    "        matriz.append(f)\n",
    "    return matriz\n",
    "        \n",
    "            "
   ]
  },
  {
   "cell_type": "code",
   "execution_count": 2,
   "id": "8545a8fc",
   "metadata": {},
   "outputs": [],
   "source": [
    "aleatoriaAsci = aleatoriaAscii()"
   ]
  },
  {
   "cell_type": "markdown",
   "id": "1620e3c4",
   "metadata": {},
   "source": [
    "## Ejercicio 9 \n",
    "Crea una función que dada una lista bidimensional (del tipo lista aleatoriaAscii), represente los números correspondientes a los caracteres ASCII de la matriz. Debe quedar alineada y siguiendo el mismo formato de la imagen que aparece a continuación. Llamarás a la función **muestraMatrizAscii**. Crea algún método adicional si lo consideras necesario (**3 puntos**)"
   ]
  },
  {
   "cell_type": "code",
   "execution_count": 30,
   "id": "61a13a59",
   "metadata": {},
   "outputs": [
    {
     "name": "stdout",
     "output_type": "stream",
     "text": [
      "| 92,  17,  71, 209, 161, 251,  33,  25,  45, 253,  14, 117, 213,  17,  90,  47|\n",
      "| 71, 192,  21,  82,  61,  13, 195,  69,   9, 112, 246, 193,   9, 144, 215, 199|\n",
      "|110,  17,  28, 232, 173, 235, 219, 233, 168,  36,  81,  18,  96, 233, 124, 186|\n",
      "| 52, 140, 124,  99, 164, 180,  17, 182, 184,  54,  98,  42, 208, 185,  87, 192|\n",
      "|142,  43, 171,  74, 100, 216,  36,  18,  91,  15,  76, 132,  78, 191, 224, 105|\n",
      "| 99,  94, 175,   0,  36,  45,  84,  36, 113,  14, 193,  69, 184,  37, 128, 220|\n",
      "| 58,  59,  10, 132,  12,  25, 251, 189,  48,  77,  88, 234, 247,  53, 136, 201|\n",
      "| 63, 128, 129, 238, 129, 248, 223,  75, 168,  17,   9, 251,  36, 151, 231,   5|\n",
      "| 25,  12, 106,  57, 162,  38,  55, 236, 234,   7, 209, 121, 228,   3,   7,  48|\n",
      "|  4, 191, 105,  70, 214, 105, 245, 109, 182, 244, 137, 139,  64, 244,  38, 204|\n",
      "| 67,  13, 255,  77,  35,  48, 230, 231,  49,  47,  17,  96,  89, 168, 221, 215|\n",
      "|223,  89,  52, 231, 166, 244,  27,  55, 181,  16,  71, 180,  20,  72, 107, 226|\n",
      "|225, 138, 168,  91, 252, 204, 146, 156,  11, 121, 108,  90, 122,  51, 238,  17|\n",
      "|195,  85, 223, 197, 141, 254,   1,  57, 163, 125,  38, 255,  92,  35, 101, 141|\n",
      "|123, 130, 126, 198, 211, 127, 175,  28,  91, 115, 145, 106, 251, 172,  63, 151|\n",
      "|195,  58,  73,  86,  28, 128,  53, 157,  52,  89,  92, 195,  77,  51, 163, 186|\n"
     ]
    }
   ],
   "source": [
    "for fila in aleatoriaAsci:\n",
    "    print('|', end='')\n",
    "    for i, el in enumerate(fila):\n",
    "        espacios = ''\n",
    "        if ord(el) > 9 and ord(el)< 100:\n",
    "            espacios = ' '\n",
    "        elif ord(el) < 10:\n",
    "            espacios = '  '\n",
    "        if i == 15:\n",
    "            print(espacios+str(ord(el)) +'|')\n",
    "            continue\n",
    "        print(espacios+ str(ord(el)) +  ', ', end='')\n",
    "        \n"
   ]
  },
  {
   "cell_type": "markdown",
   "id": "0435bb23",
   "metadata": {},
   "source": [
    " <img src=\"matriz.png\" alt=\"Matriz ascii aleatoria\" title=\"Title text\" />"
   ]
  },
  {
   "cell_type": "markdown",
   "id": "df2e3df8",
   "metadata": {},
   "source": [
    "## Ejercicio 10\n",
    "Para la realización de este ejercicio utilizaremos VSCode. Recuerda que todos los atributos de las clases que creemos deben ser privados y todos los métodos deben ser públicos. Crearemos todas las clases en una misma carpeta.\n",
    "\n",
    "### Clase vehículo\n",
    "Es una clase que tendrá los atributos que se muestran en el diagrama uml. \n",
    "- El método aString devolverá un string que represente todos los datos del coche\n",
    "- Los métodos acelerar y frenar cambiarán la velocidad del vehículo según el parámetro de entrada (que supondremos por simplicidad que es positivo). El vehículo nunca podrá superar la velocidad máxima ni tener una velocidad inferior a 0.\n",
    "\n",
    "### Clase moto\n",
    "Deriva de clase vehículo. Al implemetar esta clase, el parámetro ruedas debe ser 2 automáticamente. \n",
    "- El método caballito simplemnte muestra por pantalla. \"Puedo hacer caballitos\"\n",
    "\n",
    "### Clase bicicleta\n",
    "Deriva de clase vehículo. Al implemetar esta clase, el parámetro ruedas debe ser 2 automáticamente. \n",
    "- El pedales simplemnte muestra por pantalla. \"Voy a pedales\"\n",
    "\n",
    "### Clase coche\n",
    "Deriva de clase vehículo. Al implemetar esta clase, el parámetro ruedas debe ser 4 automáticamente. \n",
    "- El método marchaAtras() pone a -10 la velocidad del coche, solamente si la velocidad del coche es 0.\n",
    "\n",
    "### Clase garaje\n",
    "Estará formada por una lista de vehículos y numVehiculos, que representará el tamaño de la lista\n",
    "- Los métodos totalKilometros() y totalCombustible() devolverán el número total kilómetros y combustible de los vehículos del garaje\n",
    "- El método añadirVehiculo(vehiculo) añadirá un vehículo al parámetro vehiculos y aumentará en 1 numVehiculos\n",
    "- El método quitarVehiculo(matricula) quitará el vehículo con la matrícula determinada de la lista disminuirá en 1 numVehiculos siempre que exista un vehículo con la matrícula dada. Si no existe un vehículo con la matrícula dada, no hará nada el método\n",
    "\n",
    "### Clase principal\n",
    "Ejecuta una clase principal en la que crees un vehículo de cada (1 bici, una moto y un coche, todos con velocidad inicial 0) y un garaje con esos 3 vehículos\n",
    "\n",
    "Se deja a continuación un diagrama UML que representa al ejercicio\n",
    "\n",
    "(**8 puntos**)\n",
    "\n",
    "\n",
    "\n",
    "\n"
   ]
  },
  {
   "cell_type": "markdown",
   "id": "fa166e72",
   "metadata": {},
   "source": [
    " <img src=\"diagrama.png\" alt=\"Diagrama UML\" title=\"Title text\" />"
   ]
  },
  {
   "cell_type": "markdown",
   "id": "5ab15554",
   "metadata": {},
   "source": [
    "## Ejercicio 11\n",
    "Adjunta imágenes (debe aparecer en la captura de pantalla el día y la fecha de hoy) en las que (**2 puntos**):\n",
    "- Muestres que te conectas por SSH a un servidor odoo \n",
    "- Muestres que está funcionando correctamente la página web de odoo\n",
    "- Muestres como pones odoo en modo desarrollador\n",
    "- Crea un módulo en Odoo llamado patata y muestra como aparece en la página web de odoo"
   ]
  }
 ],
 "metadata": {
  "kernelspec": {
   "display_name": "Python 3 (ipykernel)",
   "language": "python",
   "name": "python3"
  },
  "language_info": {
   "codemirror_mode": {
    "name": "ipython",
    "version": 3
   },
   "file_extension": ".py",
   "mimetype": "text/x-python",
   "name": "python",
   "nbconvert_exporter": "python",
   "pygments_lexer": "ipython3",
   "version": "3.10.8"
  }
 },
 "nbformat": 4,
 "nbformat_minor": 5
}
