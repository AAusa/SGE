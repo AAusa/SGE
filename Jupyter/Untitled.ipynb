{
 "cells": [
  {
   "cell_type": "markdown",
   "id": "86baec00",
   "metadata": {},
   "source": [
    "#  Instalación de Jupyter notebook y algunos ejercicios"
   ]
  },
  {
   "cell_type": "markdown",
   "id": "8df72183",
   "metadata": {},
   "source": [
    "##  Índice"
   ]
  },
  {
   "cell_type": "markdown",
   "id": "0f569716",
   "metadata": {},
   "source": [
    "- [Instalación](#Instalación)  \n",
    "- [Ejercicios estructura secuencial](#Ejercicios-estructura-secuencial)\n",
    "- [Ejercicios estructura alternativas](#Ejercicios-estructura-alternativas)\n",
    "- [Ejercicios estructuras repetitivas](#Ejercicios-estructuras-repetitivas)"
   ]
  },
  {
   "cell_type": "markdown",
   "id": "f584e3cc",
   "metadata": {},
   "source": [
    "##  Instalación"
   ]
  },
  {
   "cell_type": "markdown",
   "id": "02fd97c2",
   "metadata": {},
   "source": [
    "- Descargar __python__ y añadirlo al path de Windows.\n",
    "- Instalar el gestor de paquetes __pip__ descargándolo del siguiente modo:\n",
    "    - `curl https://bootstrap.pypa.io/get-pip.py> get-pip.py`\n",
    "- Ejecutar el siguiente comando:\n",
    "    - `python get-pip.py`\n",
    "    - Comprobar que la versión de pip está instalada: `pip --version`\n",
    "- Ejecutar __jupyter__:\n",
    "    - `pip install jupyter`\n",
    "- Situarse en la carpeta \"Jupyter\" previamente creada y ejecutar:\n",
    "    - `jupyter notebook`\n",
    "    "
   ]
  },
  {
   "cell_type": "markdown",
   "id": "80852652",
   "metadata": {},
   "source": [
    "##  Ejercicios estructura secuencial"
   ]
  },
  {
   "cell_type": "markdown",
   "id": "43796d62",
   "metadata": {},
   "source": [
    "###  Ejercicio 1"
   ]
  },
  {
   "cell_type": "markdown",
   "id": "e3223e63",
   "metadata": {},
   "source": [
    "__Ejercicio 7:__ Realiza un programa que reciba una cantidad de minutos y muestre por pantalla a cuantas horas y minutos corresponde. Por ejemplo: 1000 minutos son 16 horas y 40 minutos.\n"
   ]
  },
  {
   "cell_type": "code",
   "execution_count": 33,
   "id": "3c9cfaf5",
   "metadata": {
    "scrolled": true
   },
   "outputs": [
    {
     "name": "stdout",
     "output_type": "stream",
     "text": [
      "Introduce minutos: 433\n",
      "433  minutos son:  7 horas y  13 minutos\n"
     ]
    }
   ],
   "source": [
    "min = int(input('Introduce minutos: '))\n",
    "print (min, ' minutos son: ' , (min // 60) , 'horas y ' , (min % 60) , 'minutos')"
   ]
  },
  {
   "cell_type": "markdown",
   "id": "9d5e453e",
   "metadata": {},
   "source": [
    "###  Ejercicio 2"
   ]
  },
  {
   "cell_type": "markdown",
   "id": "453d96ba",
   "metadata": {},
   "source": [
    "__Ejercicio 18:__ Pedir el nombre y los dos apellidos de una persona y mostrar las iniciales.\n"
   ]
  },
  {
   "cell_type": "code",
   "execution_count": 28,
   "id": "09b8d647",
   "metadata": {
    "scrolled": false
   },
   "outputs": [
    {
     "name": "stdout",
     "output_type": "stream",
     "text": [
      "Introduce nombre: Álvaro\n",
      "Introduce primer apellido: Ausaberri\n",
      "Introduce segundo apellido: Rodríguez\n",
      "ÁAR\n"
     ]
    }
   ],
   "source": [
    "n = input('Introduce nombre: ')\n",
    "a1 = input('Introduce primer apellido: ')\n",
    "a2 = input('Introduce segundo apellido: ')\n",
    "print (n[:1]+a1[:1]+a2[:1])"
   ]
  },
  {
   "cell_type": "markdown",
   "id": "1a053361",
   "metadata": {},
   "source": [
    "##  Ejercicios estructuras alternativas"
   ]
  },
  {
   "cell_type": "markdown",
   "id": "d4e6d37b",
   "metadata": {},
   "source": [
    "###  Ejercicio 1"
   ]
  },
  {
   "cell_type": "markdown",
   "id": "10939db8",
   "metadata": {},
   "source": [
    "__Ejercicio 6:__ Programa que lea una cadena por teclado y compruebe si es una letra mayúscula.\n"
   ]
  },
  {
   "cell_type": "code",
   "execution_count": 2,
   "id": "fa277b95",
   "metadata": {
    "scrolled": true
   },
   "outputs": [
    {
     "name": "stdout",
     "output_type": "stream",
     "text": [
      "Introduce palabra: patata\n",
      "La primera letra es minuscula\n"
     ]
    }
   ],
   "source": [
    "palabra = input('Introduce palabra: ')\n",
    "if palabra[0] >= 'A' and palabra[0] <= 'Z':\n",
    "    print ('La primera letra es mayúscula')\n",
    "else:\n",
    "    print ('La primera letra es minuscula')"
   ]
  },
  {
   "cell_type": "markdown",
   "id": "35873616",
   "metadata": {},
   "source": [
    "###  Ejercicio 2"
   ]
  },
  {
   "cell_type": "markdown",
   "id": "307f8ba1",
   "metadata": {},
   "source": [
    "__Ejercicio 9__ Algoritmo que pida tres números y los muestre ordenados (de mayor a menor);\n"
   ]
  },
  {
   "cell_type": "code",
   "execution_count": 3,
   "id": "6e56a44b",
   "metadata": {},
   "outputs": [
    {
     "name": "stdout",
     "output_type": "stream",
     "text": [
      "Introduce n1: 1\n",
      "Introduce n2: 2\n",
      "Introduce n3: 3\n",
      "3 > 2 > 1\n"
     ]
    }
   ],
   "source": [
    "n1 = int(input('Introduce n1: '))\n",
    "n2 = int(input('Introduce n2: '))\n",
    "n3 = int(input('Introduce n3: '))\n",
    "if n1 > n2 and n1 > n3:\n",
    "    if n2 > n3:\n",
    "        print (n1, '>' ,n2, '>' ,n3)\n",
    "    else:\n",
    "        print (n1, '>' ,n3, '>' ,n2)\n",
    "        \n",
    "elif n2 > n1 and n2 > n3:\n",
    "        if n1 > n3:\n",
    "            print (n2, '>' ,n1, '>' ,n3)\n",
    "        else:\n",
    "            print (n2, '>' ,n3, '>' ,n1)\n",
    "else:\n",
    "    if n1 > n2:\n",
    "        print (n3, '>' ,n1, '>' ,n2)\n",
    "    else:\n",
    "        print (n3, '>' ,n2, '>' ,n1)"
   ]
  },
  {
   "cell_type": "markdown",
   "id": "aab336c7",
   "metadata": {},
   "source": [
    "##  Ejercicios estructuras repetitivas"
   ]
  },
  {
   "cell_type": "markdown",
   "id": "d63e63a7",
   "metadata": {},
   "source": [
    "###  Ejercicio 1"
   ]
  },
  {
   "cell_type": "markdown",
   "id": "9c0a8d88",
   "metadata": {},
   "source": [
    "__Ejercicio 4__ Realizar un algoritmo que pida números (se pedirá por teclado la cantidad de números a introducir). El programa debe informar de cuantos números introducidos son mayores que 0, menores que 0 e iguales a 0."
   ]
  },
  {
   "cell_type": "markdown",
   "id": "4d873b55",
   "metadata": {},
   "source": [
    "__While:__ "
   ]
  },
  {
   "cell_type": "code",
   "execution_count": 1,
   "id": "f1b25a27",
   "metadata": {
    "scrolled": false
   },
   "outputs": [
    {
     "name": "stdout",
     "output_type": "stream",
     "text": [
      "Introduce max: 3\n",
      "Introduce num: 0\n",
      "Introduce num: 1\n",
      "Introduce num: -1\n",
      "Menor0:  1 Igual0:  1 Mayor0:  1\n"
     ]
    }
   ],
   "source": [
    "max = int(input('Introduce max: '))\n",
    "i = 0\n",
    "menor0 = 0\n",
    "igual0 = 0\n",
    "mayor0 = 0\n",
    "while i < max:\n",
    "    num = int(input('Introduce num: '))\n",
    "    if num < 0:\n",
    "        menor0+=1\n",
    "    elif num == 0:\n",
    "        igual0+=1\n",
    "    else:\n",
    "        mayor0+=1\n",
    "    i+=1\n",
    "print ('Menor0: ',menor0,'Igual0: ',igual0,'Mayor0: ', mayor0)"
   ]
  },
  {
   "cell_type": "markdown",
   "id": "0bbe4d23",
   "metadata": {},
   "source": [
    "__For:__ "
   ]
  },
  {
   "cell_type": "code",
   "execution_count": 2,
   "id": "79aaa840",
   "metadata": {},
   "outputs": [
    {
     "name": "stdout",
     "output_type": "stream",
     "text": [
      "Introduce max: 3\n",
      "Introduce num: 0\n",
      "Introduce num: 1\n",
      "Introduce num: -1\n",
      "Menor0:  1 Igual0:  1 Mayor0:  1\n"
     ]
    }
   ],
   "source": [
    "max = int(input('Introduce max: '))\n",
    "menor0 = 0\n",
    "igual0 = 0\n",
    "mayor0 = 0\n",
    "for i in range(0,max):\n",
    "    num = int(input('Introduce num: '))\n",
    "    if num < 0:\n",
    "        menor0+=1\n",
    "    elif num == 0:\n",
    "        igual0+=1\n",
    "    else:\n",
    "        mayor0+=1\n",
    "print ('Menor0: ',menor0,'Igual0: ',igual0,'Mayor0: ', mayor0)"
   ]
  },
  {
   "cell_type": "markdown",
   "id": "d64d185c",
   "metadata": {},
   "source": [
    "###  Ejercicio 2"
   ]
  },
  {
   "cell_type": "markdown",
   "id": "333e0600",
   "metadata": {},
   "source": [
    "__Ejercicio 11__ Escribe un programa que diga si un número introducido por teclado es o no primo. Un número primo es aquel que sólo es divisible entre él mismo y la unidad. Nota: Es suficiente probar hasta la raíz cuadrada del número para ver si es divisible por algún otro número."
   ]
  },
  {
   "cell_type": "markdown",
   "id": "949d26b0",
   "metadata": {},
   "source": [
    "__While:__ "
   ]
  },
  {
   "cell_type": "code",
   "execution_count": 20,
   "id": "6ab2e06f",
   "metadata": {},
   "outputs": [
    {
     "name": "stdout",
     "output_type": "stream",
     "text": [
      "Introduce num: 5\n",
      "Es primo\n"
     ]
    }
   ],
   "source": [
    "num = int(input('Introduce num: '))\n",
    "raiz = int(num**0.5) #potencia de 0.5\n",
    "primo = True\n",
    "while i < raiz+1:\n",
    "    if num % i == 0:\n",
    "        primo = False\n",
    "    i+=1\n",
    "salida = \"Es primo\" if primo else \"No es primo\"\n",
    "print(salida)"
   ]
  },
  {
   "cell_type": "markdown",
   "id": "0e0fc59f",
   "metadata": {},
   "source": [
    "__For:__ "
   ]
  },
  {
   "cell_type": "code",
   "execution_count": 22,
   "id": "ffb2ecdf",
   "metadata": {},
   "outputs": [
    {
     "name": "stdout",
     "output_type": "stream",
     "text": [
      "Introduce num: 15\n",
      "No es primo\n"
     ]
    }
   ],
   "source": [
    "num = int(input('Introduce num: '))\n",
    "raiz = int(num**0.5)\n",
    "primo = True\n",
    "for i in range(2,raiz+1):\n",
    "    if num % i == 0:\n",
    "        primo = False\n",
    "salida = \"Es primo\" if primo else \"No es primo\"\n",
    "print(salida)"
   ]
  }
 ],
 "metadata": {
  "kernelspec": {
   "display_name": "Python 3 (ipykernel)",
   "language": "python",
   "name": "python3"
  },
  "language_info": {
   "codemirror_mode": {
    "name": "ipython",
    "version": 3
   },
   "file_extension": ".py",
   "mimetype": "text/x-python",
   "name": "python",
   "nbconvert_exporter": "python",
   "pygments_lexer": "ipython3",
   "version": "3.10.8"
  }
 },
 "nbformat": 4,
 "nbformat_minor": 5
}
