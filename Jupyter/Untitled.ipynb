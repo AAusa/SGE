{
 "cells": [
  {
   "cell_type": "markdown",
   "id": "86baec00",
   "metadata": {},
   "source": [
    "#  Instalación de Jupyter notebook y algunos ejercicios"
   ]
  },
  {
   "cell_type": "markdown",
   "id": "8df72183",
   "metadata": {},
   "source": [
    "##  Índice"
   ]
  },
  {
   "cell_type": "markdown",
   "id": "0f569716",
   "metadata": {},
   "source": [
    "- [Instalación](#Instalación)  \n",
    "- [Ejercicios estructura secuencial](#Ejercicios-estructura-secuencial)\n",
    "- [Ejercicios estructura alternativas](#Ejercicios-estructura-alternativas)\n",
    "- [Ejercicios estructuras repetitivas](#Ejercicios-estructuras-repetitivas)\n",
    "- [Ejercicios cadenas de carácteres](#Ejercicios-cadenas-de-carácteres)\n",
    "- [Ejercicios de listas](#Ejercicios-de-listas)\n",
    "- [Ejercicios de diccionarios](#Ejercicios-de-diccionarios)\n",
    "- [Ejercicios de funciones](#Ejercicios-de-funciones)\n",
    "- [Más ejercicios](#Más-ejercicios)"
   ]
  },
  {
   "cell_type": "markdown",
   "id": "f584e3cc",
   "metadata": {},
   "source": [
    "##  Instalación"
   ]
  },
  {
   "cell_type": "markdown",
   "id": "02fd97c2",
   "metadata": {},
   "source": [
    "- Descargar __python__ y añadirlo al path de Windows.\n",
    "- Instalar el gestor de paquetes __pip__ descargándolo del siguiente modo:\n",
    "    - `curl https://bootstrap.pypa.io/get-pip.py> get-pip.py`\n",
    "- Ejecutar el siguiente comando:\n",
    "    - `python get-pip.py`\n",
    "    - Comprobar que la versión de pip está instalada: `pip --version`\n",
    "- Ejecutar __jupyter__:\n",
    "    - `pip install jupyter`\n",
    "- Situarse en la carpeta \"Jupyter\" previamente creada y ejecutar:\n",
    "    - `jupyter notebook`\n",
    "    "
   ]
  },
  {
   "cell_type": "markdown",
   "id": "80852652",
   "metadata": {},
   "source": [
    "##  Ejercicios estructura secuencial"
   ]
  },
  {
   "cell_type": "markdown",
   "id": "43796d62",
   "metadata": {},
   "source": [
    "###  Ejercicio 1"
   ]
  },
  {
   "cell_type": "markdown",
   "id": "e3223e63",
   "metadata": {},
   "source": [
    "__Ejercicio 7:__ Realiza un programa que reciba una cantidad de minutos y muestre por pantalla a cuantas horas y minutos corresponde. Por ejemplo: 1000 minutos son 16 horas y 40 minutos.\n"
   ]
  },
  {
   "cell_type": "code",
   "execution_count": 33,
   "id": "3c9cfaf5",
   "metadata": {
    "scrolled": true
   },
   "outputs": [
    {
     "name": "stdout",
     "output_type": "stream",
     "text": [
      "Introduce minutos: 433\n",
      "433  minutos son:  7 horas y  13 minutos\n"
     ]
    }
   ],
   "source": [
    "min = int(input('Introduce minutos: '))\n",
    "print (min, ' minutos son: ' , (min // 60) , 'horas y ' , (min % 60) , 'minutos')"
   ]
  },
  {
   "cell_type": "markdown",
   "id": "9d5e453e",
   "metadata": {},
   "source": [
    "###  Ejercicio 2"
   ]
  },
  {
   "cell_type": "markdown",
   "id": "453d96ba",
   "metadata": {},
   "source": [
    "__Ejercicio 18:__ Pedir el nombre y los dos apellidos de una persona y mostrar las iniciales.\n"
   ]
  },
  {
   "cell_type": "code",
   "execution_count": 28,
   "id": "09b8d647",
   "metadata": {
    "scrolled": false
   },
   "outputs": [
    {
     "name": "stdout",
     "output_type": "stream",
     "text": [
      "Introduce nombre: Álvaro\n",
      "Introduce primer apellido: Ausaberri\n",
      "Introduce segundo apellido: Rodríguez\n",
      "ÁAR\n"
     ]
    }
   ],
   "source": [
    "n = input('Introduce nombre: ')\n",
    "a1 = input('Introduce primer apellido: ')\n",
    "a2 = input('Introduce segundo apellido: ')\n",
    "print (n[:1]+a1[:1]+a2[:1])"
   ]
  },
  {
   "cell_type": "markdown",
   "id": "1a053361",
   "metadata": {},
   "source": [
    "##  Ejercicios estructuras alternativas"
   ]
  },
  {
   "cell_type": "markdown",
   "id": "d4e6d37b",
   "metadata": {},
   "source": [
    "###  Ejercicio 1"
   ]
  },
  {
   "cell_type": "markdown",
   "id": "10939db8",
   "metadata": {},
   "source": [
    "__Ejercicio 6:__ Programa que lea una cadena por teclado y compruebe si es una letra mayúscula.\n"
   ]
  },
  {
   "cell_type": "code",
   "execution_count": 2,
   "id": "fa277b95",
   "metadata": {
    "scrolled": true
   },
   "outputs": [
    {
     "name": "stdout",
     "output_type": "stream",
     "text": [
      "Introduce palabra: patata\n",
      "La primera letra es minuscula\n"
     ]
    }
   ],
   "source": [
    "palabra = input('Introduce palabra: ')\n",
    "if palabra[0] >= 'A' and palabra[0] <= 'Z':\n",
    "    print ('La primera letra es mayúscula')\n",
    "else:\n",
    "    print ('La primera letra es minuscula')"
   ]
  },
  {
   "cell_type": "markdown",
   "id": "35873616",
   "metadata": {},
   "source": [
    "###  Ejercicio 2"
   ]
  },
  {
   "cell_type": "markdown",
   "id": "307f8ba1",
   "metadata": {},
   "source": [
    "__Ejercicio 9__ Algoritmo que pida tres números y los muestre ordenados (de mayor a menor);\n"
   ]
  },
  {
   "cell_type": "code",
   "execution_count": 3,
   "id": "6e56a44b",
   "metadata": {},
   "outputs": [
    {
     "name": "stdout",
     "output_type": "stream",
     "text": [
      "Introduce n1: 1\n",
      "Introduce n2: 2\n",
      "Introduce n3: 3\n",
      "3 > 2 > 1\n"
     ]
    }
   ],
   "source": [
    "n1 = int(input('Introduce n1: '))\n",
    "n2 = int(input('Introduce n2: '))\n",
    "n3 = int(input('Introduce n3: '))\n",
    "if n1 > n2 and n1 > n3:\n",
    "    if n2 > n3:\n",
    "        print (n1, '>' ,n2, '>' ,n3)\n",
    "    else:\n",
    "        print (n1, '>' ,n3, '>' ,n2)\n",
    "        \n",
    "elif n2 > n1 and n2 > n3:\n",
    "        if n1 > n3:\n",
    "            print (n2, '>' ,n1, '>' ,n3)\n",
    "        else:\n",
    "            print (n2, '>' ,n3, '>' ,n1)\n",
    "else:\n",
    "    if n1 > n2:\n",
    "        print (n3, '>' ,n1, '>' ,n2)\n",
    "    else:\n",
    "        print (n3, '>' ,n2, '>' ,n1)"
   ]
  },
  {
   "cell_type": "markdown",
   "id": "aab336c7",
   "metadata": {},
   "source": [
    "##  Ejercicios estructuras repetitivas"
   ]
  },
  {
   "cell_type": "markdown",
   "id": "d63e63a7",
   "metadata": {},
   "source": [
    "###  Ejercicio 1"
   ]
  },
  {
   "cell_type": "markdown",
   "id": "9c0a8d88",
   "metadata": {},
   "source": [
    "__Ejercicio 4__ Realizar un algoritmo que pida números (se pedirá por teclado la cantidad de números a introducir). El programa debe informar de cuantos números introducidos son mayores que 0, menores que 0 e iguales a 0."
   ]
  },
  {
   "cell_type": "markdown",
   "id": "4d873b55",
   "metadata": {},
   "source": [
    "__While:__ "
   ]
  },
  {
   "cell_type": "code",
   "execution_count": 1,
   "id": "f1b25a27",
   "metadata": {
    "scrolled": false
   },
   "outputs": [
    {
     "name": "stdout",
     "output_type": "stream",
     "text": [
      "Introduce max: 3\n",
      "Introduce num: 0\n",
      "Introduce num: 1\n",
      "Introduce num: -1\n",
      "Menor0:  1 Igual0:  1 Mayor0:  1\n"
     ]
    }
   ],
   "source": [
    "max = int(input('Introduce max: '))\n",
    "i = 0\n",
    "menor0 = 0\n",
    "igual0 = 0\n",
    "mayor0 = 0\n",
    "while i < max:\n",
    "    num = int(input('Introduce num: '))\n",
    "    if num < 0:\n",
    "        menor0+=1\n",
    "    elif num == 0:\n",
    "        igual0+=1\n",
    "    else:\n",
    "        mayor0+=1\n",
    "    i+=1\n",
    "print ('Menor0: ',menor0,'Igual0: ',igual0,'Mayor0: ', mayor0)"
   ]
  },
  {
   "cell_type": "markdown",
   "id": "0bbe4d23",
   "metadata": {},
   "source": [
    "__For:__ "
   ]
  },
  {
   "cell_type": "code",
   "execution_count": 2,
   "id": "79aaa840",
   "metadata": {},
   "outputs": [
    {
     "name": "stdout",
     "output_type": "stream",
     "text": [
      "Introduce max: 3\n",
      "Introduce num: 0\n",
      "Introduce num: 1\n",
      "Introduce num: -1\n",
      "Menor0:  1 Igual0:  1 Mayor0:  1\n"
     ]
    }
   ],
   "source": [
    "max = int(input('Introduce max: '))\n",
    "menor0 = 0\n",
    "igual0 = 0\n",
    "mayor0 = 0\n",
    "for i in range(0,max):\n",
    "    num = int(input('Introduce num: '))\n",
    "    if num < 0:\n",
    "        menor0+=1\n",
    "    elif num == 0:\n",
    "        igual0+=1\n",
    "    else:\n",
    "        mayor0+=1\n",
    "print ('Menor0: ',menor0,'Igual0: ',igual0,'Mayor0: ', mayor0)"
   ]
  },
  {
   "cell_type": "markdown",
   "id": "d64d185c",
   "metadata": {},
   "source": [
    "###  Ejercicio 2"
   ]
  },
  {
   "cell_type": "markdown",
   "id": "333e0600",
   "metadata": {},
   "source": [
    "__Ejercicio 11__ Escribe un programa que diga si un número introducido por teclado es o no primo. Un número primo es aquel que sólo es divisible entre él mismo y la unidad. Nota: Es suficiente probar hasta la raíz cuadrada del número para ver si es divisible por algún otro número."
   ]
  },
  {
   "cell_type": "markdown",
   "id": "949d26b0",
   "metadata": {},
   "source": [
    "__While:__ "
   ]
  },
  {
   "cell_type": "code",
   "execution_count": 20,
   "id": "6ab2e06f",
   "metadata": {},
   "outputs": [
    {
     "name": "stdout",
     "output_type": "stream",
     "text": [
      "Introduce num: 5\n",
      "Es primo\n"
     ]
    }
   ],
   "source": [
    "num = int(input('Introduce num: '))\n",
    "raiz = int(num**0.5) #potencia de 0.5\n",
    "primo = True\n",
    "while i < raiz+1:\n",
    "    if num % i == 0:\n",
    "        primo = False\n",
    "    i+=1\n",
    "salida = \"Es primo\" if primo else \"No es primo\"\n",
    "print(salida)"
   ]
  },
  {
   "cell_type": "markdown",
   "id": "0e0fc59f",
   "metadata": {},
   "source": [
    "__For:__ "
   ]
  },
  {
   "cell_type": "code",
   "execution_count": 22,
   "id": "ffb2ecdf",
   "metadata": {},
   "outputs": [
    {
     "name": "stdout",
     "output_type": "stream",
     "text": [
      "Introduce num: 15\n",
      "No es primo\n"
     ]
    }
   ],
   "source": [
    "num = int(input('Introduce num: '))\n",
    "raiz = int(num**0.5)\n",
    "primo = True\n",
    "for i in range(2,raiz+1):\n",
    "    if num % i == 0:\n",
    "        primo = False\n",
    "salida = \"Es primo\" if primo else \"No es primo\"\n",
    "print(salida)"
   ]
  },
  {
   "cell_type": "markdown",
   "id": "20aaf969",
   "metadata": {},
   "source": [
    "##  Ejercicios cadenas de carácteres"
   ]
  },
  {
   "cell_type": "markdown",
   "id": "036d2a15",
   "metadata": {},
   "source": [
    "###  Ejercicio 1"
   ]
  },
  {
   "cell_type": "markdown",
   "id": "49806aed",
   "metadata": {},
   "source": [
    "__Ejercicio 9__ Realizar un programa que compruebe si una cadena contiene una subcadena. Las dos cadenas se introducen por teclado.\n"
   ]
  },
  {
   "cell_type": "code",
   "execution_count": 5,
   "id": "e49e5d7e",
   "metadata": {
    "scrolled": true
   },
   "outputs": [
    {
     "name": "stdout",
     "output_type": "stream",
     "text": [
      "Introduce cadena: Hola!\n",
      "Introduce subcadena: !\n",
      "!  es una subcadena de  Hola!\n"
     ]
    }
   ],
   "source": [
    "cadena = input('Introduce cadena: ')\n",
    "subcadena = input('Introduce subcadena: ')\n",
    "\n",
    "if cadena.find(subcadena) > -1:\n",
    "    print (subcadena, ' es una subcadena de ' , cadena)\n",
    "else:\n",
    "    print (subcadena, ' NO es una subcadena de ' , cadena)"
   ]
  },
  {
   "cell_type": "markdown",
   "id": "052f908c",
   "metadata": {},
   "source": [
    "###  Ejercicio 2"
   ]
  },
  {
   "cell_type": "markdown",
   "id": "2866f82b",
   "metadata": {},
   "source": [
    "__Ejercicio 10__ Introducir una cadena de caracteres e indicar si es un palíndromo. Una palabra palíndroma es aquella que se lee igual adelante que atrás.\n"
   ]
  },
  {
   "cell_type": "code",
   "execution_count": 36,
   "id": "3a920844",
   "metadata": {},
   "outputs": [
    {
     "name": "stdout",
     "output_type": "stream",
     "text": [
      "Introduce cadena: otto\n",
      "Es palíndroma\n"
     ]
    }
   ],
   "source": [
    "cadena = input('Introduce cadena: ')\n",
    "cadenaAlReves = \"\"\n",
    "for letra in reversed(cadena):\n",
    "    cadenaAlReves = letra + cadenaAlReves\n",
    "if cadena == cadenaAlReves:\n",
    "    print ('Es palíndroma')\n",
    "else:\n",
    "    print ('NO es palíndroma')\n",
    "        "
   ]
  },
  {
   "cell_type": "markdown",
   "id": "699098a0",
   "metadata": {},
   "source": [
    "##  Ejercicios de listas"
   ]
  },
  {
   "cell_type": "markdown",
   "id": "83fe4dee",
   "metadata": {},
   "source": [
    "###  Ejercicio 1"
   ]
  },
  {
   "cell_type": "markdown",
   "id": "0dbe21ab",
   "metadata": {},
   "source": [
    "__Ejercicio 3__ Se quiere realizar un programa que lea por teclado las 5 notas obtenidas por un alumno (comprendidas entre 0 y 10). A continuación debe mostrar todas las notas, la nota media, la nota más alta que ha sacado y la menor.\n"
   ]
  },
  {
   "cell_type": "code",
   "execution_count": 13,
   "id": "629ea164",
   "metadata": {
    "scrolled": true
   },
   "outputs": [
    {
     "name": "stdout",
     "output_type": "stream",
     "text": [
      "Introduce nota (0 - 10): 1\n",
      "Introduce nota (0 - 10): 5\n",
      "Introduce nota (0 - 10): 10\n",
      "Introduce nota (0 - 10): 7\n",
      "Introduce nota (0 - 10): 4\n",
      "notaMedia:  5.4 notaMayor:  10 notaMenor:  1\n"
     ]
    }
   ],
   "source": [
    "notas = [0]*5\n",
    "notaMedia = 0\n",
    "totalNotas = 0\n",
    "notaMayor = 0\n",
    "notaMenor = 11\n",
    "\n",
    "for nota in notas:\n",
    "    nota = int(input('Introduce nota (0 - 10): '))\n",
    "    if nota > notaMayor:\n",
    "        notaMayor = nota\n",
    "    if nota < notaMenor:\n",
    "        notaMenor = nota\n",
    "    totalNotas += nota\n",
    "notaMedia = totalNotas / 5\n",
    "print ('notaMedia: ',notaMedia,'notaMayor: ',notaMayor,'notaMenor: ', notaMenor)"
   ]
  },
  {
   "cell_type": "markdown",
   "id": "fd69b529",
   "metadata": {},
   "source": [
    "###  Ejercicio 2"
   ]
  },
  {
   "cell_type": "markdown",
   "id": "6b33336d",
   "metadata": {},
   "source": [
    "__Ejercicio 5__ Hacer un programa que inicialice una lista de números con valores aleatorios (10 valores), y posterior ordene los elementos de menor a mayor."
   ]
  },
  {
   "cell_type": "markdown",
   "id": "33f6b1c6",
   "metadata": {},
   "source": [
    "__Opción 1__ Usando enumerate permite añadir elementos a la lista mientras la recorres "
   ]
  },
  {
   "cell_type": "code",
   "execution_count": 25,
   "id": "d62b8e56",
   "metadata": {},
   "outputs": [
    {
     "name": "stdout",
     "output_type": "stream",
     "text": [
      "Antes: \n",
      "5\n",
      "86\n",
      "87\n",
      "87\n",
      "9\n",
      "100\n",
      "66\n",
      "43\n",
      "2\n",
      "63\n",
      "Despues: \n",
      "2\n",
      "5\n",
      "9\n",
      "43\n",
      "63\n",
      "66\n",
      "86\n",
      "87\n",
      "87\n",
      "100\n"
     ]
    }
   ],
   "source": [
    "import random\n",
    "lista = [0]*10\n",
    "print ('Antes: ')\n",
    "for i, elemento in enumerate((lista)):\n",
    "    lista[i] = (random.randint(0, 100))\n",
    "    print(lista[i])\n",
    "lista.sort()\n",
    "print ('Despues: ')\n",
    "for item in lista:\n",
    "    print(item)"
   ]
  },
  {
   "cell_type": "markdown",
   "id": "b4c81762",
   "metadata": {},
   "source": [
    "__Opción 2__ Usando for normal y añadiendo con append"
   ]
  },
  {
   "cell_type": "code",
   "execution_count": 26,
   "id": "dc82a86e",
   "metadata": {},
   "outputs": [
    {
     "name": "stdout",
     "output_type": "stream",
     "text": [
      "Antes: \n",
      "56\n",
      "50\n",
      "82\n",
      "8\n",
      "88\n",
      "0\n",
      "30\n",
      "96\n",
      "44\n",
      "80\n",
      "Despues: \n",
      "0\n",
      "8\n",
      "30\n",
      "44\n",
      "50\n",
      "56\n",
      "80\n",
      "82\n",
      "88\n",
      "96\n"
     ]
    }
   ],
   "source": [
    "import random\n",
    "lista = []\n",
    "print ('Antes: ')\n",
    "for i in range(0,10):\n",
    "    lista.append(random.randint(0, 100))\n",
    "    print(lista[i])\n",
    "lista.sort()\n",
    "print ('Despues: ')\n",
    "for item in lista:\n",
    "    print(item)"
   ]
  },
  {
   "cell_type": "markdown",
   "id": "d0b02d45",
   "metadata": {},
   "source": [
    "###  Ejercicio 3"
   ]
  },
  {
   "cell_type": "markdown",
   "id": "6aeb8315",
   "metadata": {},
   "source": [
    "__Ejercicio 11__ Diseñar el algoritmo correspondiente a un programa, que:\n",
    "- Crea una tabla bidimensional de longitud 5x5 y nombre ‘diagonal’.\n",
    "- Carga la tabla de forma que los componentes pertenecientes a la diagonal de la matriz tomen el valor 1 y el resto el valor 0.\n",
    "- Muestra el contenido de la tabla en pantalla.\n"
   ]
  },
  {
   "cell_type": "code",
   "execution_count": 37,
   "id": "257418fc",
   "metadata": {
    "scrolled": true
   },
   "outputs": [
    {
     "name": "stdout",
     "output_type": "stream",
     "text": [
      "10000\n",
      "01000\n",
      "00100\n",
      "00010\n",
      "00001\n"
     ]
    }
   ],
   "source": [
    "diagonal = [[0]*5,[0]*5,[0]*5,[0]*5,[0]*5]\n",
    "for i in range(0,5):\n",
    "    diagonal[i][i] = 1\n",
    "for fila in diagonal:\n",
    "    for elem in fila:\n",
    "        print(elem,end=\"\") \n",
    "    print()"
   ]
  },
  {
   "cell_type": "markdown",
   "id": "5b9fbc9c",
   "metadata": {},
   "source": [
    "##  Ejercicios de diccionarios"
   ]
  },
  {
   "cell_type": "markdown",
   "id": "7d153dee",
   "metadata": {},
   "source": [
    "###  Ejercicio 1"
   ]
  },
  {
   "cell_type": "markdown",
   "id": "8d4720f4",
   "metadata": {},
   "source": [
    "__Ejercicio 1__ Escribe un programa python que pida un número por teclado y que cree un diccionario cuyas claves sean desde el número 1 hasta el número indicado, y los valores sean los cuadrados de las claves."
   ]
  },
  {
   "cell_type": "code",
   "execution_count": 1,
   "id": "e2f8561e",
   "metadata": {
    "scrolled": true
   },
   "outputs": [
    {
     "name": "stdout",
     "output_type": "stream",
     "text": [
      "Introduce max: 3\n",
      "diccionario[ 1 ] -->  1\n",
      "diccionario[ 2 ] -->  4\n",
      "diccionario[ 3 ] -->  9\n"
     ]
    }
   ],
   "source": [
    "max = int(input('Introduce max: '))\n",
    "diccionario = {}\n",
    "for i in range(1,max+1):\n",
    "    diccionario[i] = i*i\n",
    "    \n",
    "for i in range(1,max+1):\n",
    "    print(\"diccionario[\",i,\"]\", \"--> \" , diccionario[i])"
   ]
  },
  {
   "cell_type": "markdown",
   "id": "66d22077",
   "metadata": {},
   "source": [
    "###  Ejercicio 2"
   ]
  },
  {
   "cell_type": "markdown",
   "id": "224a103f",
   "metadata": {},
   "source": [
    "__Ejercicio 2__\n",
    "Escribe un programa que lea una cadena y devuelva un diccionario con la cantidad de apariciones de cada carácter en la cadena."
   ]
  },
  {
   "cell_type": "code",
   "execution_count": 7,
   "id": "787b2669",
   "metadata": {},
   "outputs": [
    {
     "name": "stdout",
     "output_type": "stream",
     "text": [
      "Introduce cadena: Hola! Buenos días :)\n",
      "H -> 1\n",
      "o -> 2\n",
      "l -> 1\n",
      "a -> 2\n",
      "! -> 1\n",
      "  -> 3\n",
      "B -> 1\n",
      "u -> 1\n",
      "e -> 1\n",
      "n -> 1\n",
      "s -> 2\n",
      "d -> 1\n",
      "í -> 1\n",
      ": -> 1\n",
      ") -> 1\n"
     ]
    }
   ],
   "source": [
    "cadena = input('Introduce cadena: ')\n",
    "diccionario = {}\n",
    "for letra in cadena:\n",
    "        diccionario[letra] = 0#Inicializar diccionario\n",
    "for letra in cadena:\n",
    "        diccionario[letra] += 1\n",
    "for letra,valor in diccionario.items():\n",
    "    print(letra,\"->\",valor)"
   ]
  },
  {
   "cell_type": "markdown",
   "id": "a7896c41",
   "metadata": {},
   "source": [
    "###  Ejercicio 3"
   ]
  },
  {
   "cell_type": "markdown",
   "id": "0e8b54bf",
   "metadata": {},
   "source": [
    "__Ejercicio 3__\n",
    "Vamos a crear un programa en python donde vamos a declarar un diccionario para guardar los precios de las distintas frutas. El programa pedirá el nombre de la fruta y la cantidad que se ha vendido y nos mostrará el precio final de la fruta a partir de los datos guardados en el diccionario. Si la fruta no existe nos dará un error. Tras cada consulta el programa nos preguntará si queremos hacer otra consulta."
   ]
  },
  {
   "cell_type": "code",
   "execution_count": 4,
   "id": "f9a8ce17",
   "metadata": {},
   "outputs": [
    {
     "name": "stdout",
     "output_type": "stream",
     "text": [
      "Introduce fruta: pera\n",
      "Introduce cantidad: 4\n",
      "Precio:  44\n",
      "Introduce 1 para finalizar otro num para seguir: 6\n",
      "Introduce fruta: limon\n",
      "Introduce cantidad: 5\n",
      "La clave limon no se encuentra en el diccionario\n",
      "Introduce 1 para finalizar otro num para seguir: 1\n",
      "Fin :)\n"
     ]
    }
   ],
   "source": [
    "diccionario = {}\n",
    "finalizar = 0\n",
    "diccionario['manzana'] = 1\n",
    "diccionario['pera'] = 2\n",
    "diccionario['melocoton'] = 1\n",
    "diccionario['platano'] = 2\n",
    "\n",
    "while finalizar != 1:\n",
    "    fruta = input('Introduce fruta: ')\n",
    "    cantidad = input('Introduce cantidad: ')\n",
    "    try:\n",
    "        print('Precio: ', diccionario[fruta] * cantidad)\n",
    "    except:\n",
    "        print('La clave',fruta,'no se encuentra en el diccionario') \n",
    "    finalizar = int(input('Introduce 1 para finalizar otro num para seguir: '))\n",
    "print('Fin :)') \n",
    "\n"
   ]
  },
  {
   "cell_type": "markdown",
   "id": "687a2270",
   "metadata": {},
   "source": [
    "###  Ejercicio 4"
   ]
  },
  {
   "cell_type": "markdown",
   "id": "35e8f0b9",
   "metadata": {},
   "source": [
    "__Ejercicio 4__\n",
    "Codifica un programa en python que nos permita guardar los nombres de los alumnos de una clase y las notas que han obtenido. Cada alumno puede tener distinta cantidad de notas. Guarda la información en un diccionario cuya claves serán los nombres de los alumnos y los valores serán listas con las notas de cada alumno.\n",
    "\n",
    "El programa pedirá el número de alumnos que vamos a introducir, pedirá su nombre e irá pidiendo sus notas hasta que introduzcamos un número negativo. Al final el programa nos mostrará la lista de alumnos y la nota media obtenida por cada uno de ellos. Nota: si se introduce el nombre de un alumno que ya existe el programa nos dará un error."
   ]
  },
  {
   "cell_type": "code",
   "execution_count": 7,
   "id": "e831dc3d",
   "metadata": {},
   "outputs": [
    {
     "name": "stdout",
     "output_type": "stream",
     "text": [
      "Introduce numero de alumnos: 2\n",
      "Introduce nombre: a\n",
      "Introduce nota: 1\n",
      "Introduce nota: 1\n",
      "Introduce nota: 1\n",
      "Introduce nota: -1\n",
      "Introduce nombre: b\n",
      "Introduce nota: 5\n",
      "Introduce nota: 4\n",
      "Introduce nota: -1\n",
      "Nombre:  a\n",
      "[1, 1, 1]\n",
      "notaMedia:  1.0\n",
      "Nombre:  b\n",
      "[5, 4]\n",
      "notaMedia:  4.5\n"
     ]
    }
   ],
   "source": [
    "diccionario = {}\n",
    "notas = []\n",
    "nota = 0\n",
    "i = 0\n",
    "numAlumnos = int(input('Introduce numero de alumnos: '))\n",
    "\n",
    "while i < numAlumnos:\n",
    "    nombre = input('Introduce nombre: ')\n",
    "    if nombre in diccionario:\n",
    "        print ('ERROR. Nombre registrado')\n",
    "    else:\n",
    "        while (nota >= 0):\n",
    "            nota = int(input('Introduce nota: '))\n",
    "            if nota >= 0:\n",
    "                notas.append(nota)\n",
    "        nota = 0\n",
    "        diccionario[nombre] = notas\n",
    "        notas = []\n",
    "        i += 1\n",
    "for nombre,notas in diccionario.items():\n",
    "    notaMedia = 0\n",
    "    print('Nombre: ',nombre)\n",
    "    for nota in notas:\n",
    "        notaMedia += nota\n",
    "    notaMedia /= len(notas)\n",
    "    print('notaMedia: ',notaMedia)"
   ]
  },
  {
   "cell_type": "markdown",
   "id": "1e0092bb",
   "metadata": {},
   "source": [
    "##  Ejercicios de funciones"
   ]
  },
  {
   "cell_type": "markdown",
   "id": "8a225b90",
   "metadata": {},
   "source": [
    "###  Ejercicio 1"
   ]
  },
  {
   "cell_type": "markdown",
   "id": "c0812837",
   "metadata": {},
   "source": [
    "__Ejercicio 7__ Crear una subrutina llamada “Login”, que recibe un nombre de usuario y una contraseña y te devuelve Verdadero si el nombre de usuario es “usuario1” y la contraseña es “asdasd”. Además recibe el número de intentos que se ha intentado hacer login y si no se ha podido hacer login incremente este valor.\n",
    "\n",
    "Crear un programa principal donde se pida un nombre de usuario y una contraseña y se intente hacer login, solamente tenemos tres oportunidades para intentarlo."
   ]
  },
  {
   "cell_type": "code",
   "execution_count": 8,
   "id": "9483c0fd",
   "metadata": {
    "scrolled": true
   },
   "outputs": [
    {
     "name": "stdout",
     "output_type": "stream",
     "text": [
      "Introduce usuario: a\n",
      "Introduce contrasenna: a\n",
      "Introduce usuario: b\n",
      "Introduce contrasenna: b\n",
      "Introduce usuario: usuario1\n",
      "Introduce contrasenna: asdasd\n",
      "correcto\n"
     ]
    }
   ],
   "source": [
    "def login (usuario, contrasenna):\n",
    "    return usuario == 'usuario1' and contrasenna == 'asdasd'\n",
    "\n",
    "contador = 0\n",
    "usuario = input('Introduce usuario: ')\n",
    "contrasenna = input('Introduce contrasenna: ')\n",
    "login(usuario, contrasenna)\n",
    "while(not(login(usuario, contrasenna)) and contador < 3):\n",
    "    usuario = input('Introduce usuario: ')\n",
    "    contrasenna = input('Introduce contrasenna: ')\n",
    "    if login(usuario, contrasenna):\n",
    "        print('correcto')\n",
    "    contador+=1"
   ]
  },
  {
   "cell_type": "markdown",
   "id": "d7dbe786",
   "metadata": {},
   "source": [
    "###  Ejercicio 2"
   ]
  },
  {
   "cell_type": "markdown",
   "id": "9cbbf90a",
   "metadata": {},
   "source": [
    "__Ejercicio 10__\n",
    "Escribir dos funciones que permitan calcular:\n",
    "\n",
    "- La cantidad de segundos en un tiempo dado en horas, minutos y segundos.\n",
    "- La cantidad de horas, minutos y segundos de un tiempo dado en segundos.\n",
    "\n",
    "Escribe un programa principal con un menú donde se pueda elegir la opción de convertir a segundos, convertir a horas,minutos y segundos o salir del programa."
   ]
  },
  {
   "cell_type": "code",
   "execution_count": 14,
   "id": "73b2cea9",
   "metadata": {
    "scrolled": true
   },
   "outputs": [
    {
     "name": "stdout",
     "output_type": "stream",
     "text": [
      "1.- Convertir a segundos\n",
      "2.- Convertir a horas,minutos y segundos\n",
      "3.- Salir\n",
      "Introduce opcion: 1\n",
      "Introduce h: 3\n",
      "Introduce m: 2\n",
      "Introduce s: 1\n",
      "10921 segundos\n",
      "1.- Convertir a segundos\n",
      "2.- Convertir a horas,minutos y segundos\n",
      "3.- Salir\n",
      "Introduce opcion: 2\n",
      "Introduce s: 10921\n",
      "(3, 'h', 2, 'm', 1, 's')\n",
      "1.- Convertir a segundos\n",
      "2.- Convertir a horas,minutos y segundos\n",
      "3.- Salir\n",
      "Introduce opcion: 3\n",
      "Fin :)\n"
     ]
    }
   ],
   "source": [
    "def aSeg (h, m, s):\n",
    "    return (h * 60) * 60 + m * 60 + s\n",
    "def aHMS (s):\n",
    "    return s // 3600,'h', (s // 60) % 60, 'm', s  % 60, 's'\n",
    "\n",
    "finalizar = False\n",
    "\n",
    "\n",
    "while(finalizar == False):\n",
    "    print('1.- Convertir a segundos')\n",
    "    print('2.- Convertir a horas,minutos y segundos')\n",
    "    print('3.- Salir')\n",
    "    opcion = int(input('Introduce opcion: '))\n",
    "    if opcion == 1:\n",
    "        h = int(input('Introduce h: '))\n",
    "        m = int(input('Introduce m: '))\n",
    "        s = int(input('Introduce s: '))\n",
    "        print(aSeg(h,m,s), 'segundos')\n",
    "\n",
    "    elif opcion == 2:\n",
    "        s = int(input('Introduce s: '))\n",
    "        print(aHMS(s))\n",
    "        \n",
    "    elif opcion == 3:\n",
    "        finalizar = True\n",
    "    else: \n",
    "        print('ERROR.-Introduce 1, 2 o 3')\n",
    "print('Fin :)')\n"
   ]
  },
  {
   "cell_type": "markdown",
   "id": "9abb2983",
   "metadata": {},
   "source": [
    "##  Más ejercicios"
   ]
  },
  {
   "cell_type": "markdown",
   "id": "e34a01f7",
   "metadata": {},
   "source": [
    "###  Ejercicio 1"
   ]
  },
  {
   "cell_type": "markdown",
   "id": "c009632a",
   "metadata": {},
   "source": [
    "__Ejercicio 2__\n",
    "El DNI (Documento Nacional de Identidad) en España está formada por 8 números y una letra. La letra nos sirve para verificar que el número es correcto, por lo tanto la letra se calcula a partir del número. Busca información de cómo se realiza el calculo y crea una función CalcularLetra que recibe un número y devuelva la letra que le corresponde.\n",
    "\n",
    "La función anterior la podemos utiliza para crear una nueva función ValidarDNI que recibe un DNI (cadena de caracteres con 8 números y una letra) que valida el DNI, es decir comprueba si la letra del DNI es igual a la letra calculada a partir del número.\n",
    "\n",
    "Realiza un programa principal que lea un DNI y valide que es correcto (se debe comprobar también que tiene 9 caracteres)."
   ]
  },
  {
   "cell_type": "code",
   "execution_count": 34,
   "id": "df6f15a3",
   "metadata": {
    "scrolled": true
   },
   "outputs": [
    {
     "name": "stdout",
     "output_type": "stream",
     "text": [
      "Introduce dni: 12312312K\n"
     ]
    },
    {
     "data": {
      "text/plain": [
       "'Válido!'"
      ]
     },
     "execution_count": 34,
     "metadata": {},
     "output_type": "execute_result"
    }
   ],
   "source": [
    "def validarLetra (dni):\n",
    "    letras = \"TRWAGMYFPDXBNJZSQVHLCKE\"\n",
    "    return \"Válido!\" if (len(dni) == 9 and letras[int(dni[:8]) % 23] == dni[8]) else \"No válido\"\n",
    "\n",
    "dni = input('Introduce dni: ')\n",
    "validarLetra(dni)"
   ]
  },
  {
   "cell_type": "markdown",
   "id": "cbdeeeb8",
   "metadata": {},
   "source": [
    "###  Ejercicio 2"
   ]
  },
  {
   "cell_type": "markdown",
   "id": "0f91b792",
   "metadata": {},
   "source": [
    "__Ejercicio 5__ Vamos a realizar dos funciones: una que nos permita convertir un número entero a binario, y otra que nos permita convertir un numero binario a decimal.\n",
    "\n",
    "- ConvertirABinario: Función que recibe un número entero y devuelve una cadena con la representación del número en binario.\n",
    "- ConvertirADecimal: Función que recibe una cadena con la representación binaria de un número y devuelve el número en decimal.\n",
    "\n",
    "Crea un programa principal que permita convertir de decimal a binario y de binario a decimal."
   ]
  },
  {
   "cell_type": "code",
   "execution_count": 41,
   "id": "9104d16e",
   "metadata": {
    "scrolled": true
   },
   "outputs": [
    {
     "name": "stdout",
     "output_type": "stream",
     "text": [
      "Introduce binario: 101\n",
      "101  es  5\n",
      "Introduce decimal: 5\n",
      "5  es  101\n"
     ]
    }
   ],
   "source": [
    "def binarioDecimal (binario):\n",
    "    decimal = 0\n",
    "    i = 0\n",
    "    while (binario > 0):\n",
    "        digito  = binario % 10 #Calcula el digito\n",
    "        binario = int(binario//10) #Obtiene el binario restando el digito\n",
    "        decimal = decimal + digito * (2 ** i) #Coloca el digito en la posicion donde corresponde\n",
    "        i = i+1\n",
    "    return decimal\n",
    "\n",
    "def decimalBinario (decimal):\n",
    "    binario = 0\n",
    "    i = 0\n",
    "    while (decimal > 0):\n",
    "        digito  = decimal % 2 #Calcula el digito\n",
    "        decimal = int(decimal // 2) #Obtiene el binario restando el digito\n",
    "        binario = binario + digito * (10 ** i) #Coloca el digito en la posicion donde corresponde\n",
    "        i = i+1\n",
    "    return binario\n",
    "\n",
    "\n",
    "binario = int(input('Introduce binario: '))\n",
    "print(binario,' es ' ,binarioDecimal (binario))\n",
    "decimal = int(input('Introduce decimal: '))\n",
    "print(decimal,' es ' ,decimalBinario (decimal))\n"
   ]
  },
  {
   "cell_type": "markdown",
   "id": "75ddec76",
   "metadata": {},
   "source": [
    "###  Ejercicio clase"
   ]
  },
  {
   "cell_type": "markdown",
   "id": "c6a0390a",
   "metadata": {},
   "source": [
    "__Ejercicio:__ Crear un método que nos cuente el número de letras que aparecen en un texto determinado. Convertir todo el texto a mayúsculas o a minúsculas previamente, ya que consideraremos que 'a' y 'A' son la misma letra. Consideraremos que el texto no tiene letra ñ"
   ]
  },
  {
   "cell_type": "code",
   "execution_count": 1,
   "id": "81f5954b",
   "metadata": {},
   "outputs": [
    {
     "ename": "NameError",
     "evalue": "name 'upper' is not defined",
     "output_type": "error",
     "traceback": [
      "\u001b[1;31m---------------------------------------------------------------------------\u001b[0m",
      "\u001b[1;31mNameError\u001b[0m                                 Traceback (most recent call last)",
      "Cell \u001b[1;32mIn [1], line 1\u001b[0m\n\u001b[1;32m----> 1\u001b[0m cadena \u001b[38;5;241m=\u001b[39m \u001b[43mupper\u001b[49m(\u001b[38;5;28minput\u001b[39m(\u001b[38;5;124m'\u001b[39m\u001b[38;5;124mIntroduce cadena: \u001b[39m\u001b[38;5;124m'\u001b[39m))\n\u001b[0;32m      2\u001b[0m diccionario \u001b[38;5;241m=\u001b[39m {}\n\u001b[0;32m      3\u001b[0m \u001b[38;5;28;01mfor\u001b[39;00m letra \u001b[38;5;129;01min\u001b[39;00m cadena:\n",
      "\u001b[1;31mNameError\u001b[0m: name 'upper' is not defined"
     ]
    }
   ],
   "source": [
    "cadena = upper(input('Introduce cadena: '))\n",
    "diccionario = {}\n",
    "for letra in cadena:\n",
    "    if letra != 'ñ':\n",
    "        diccionario[letra] = 0#Inicializar diccionario\n",
    "for letra in cadena:\n",
    "        diccionario[letra] += 1\n",
    "for letra,valor in diccionario.items():\n",
    "    print(letra,\"->\",valor)"
   ]
  }
 ],
 "metadata": {
  "kernelspec": {
   "display_name": "Python 3 (ipykernel)",
   "language": "python",
   "name": "python3"
  },
  "language_info": {
   "codemirror_mode": {
    "name": "ipython",
    "version": 3
   },
   "file_extension": ".py",
   "mimetype": "text/x-python",
   "name": "python",
   "nbconvert_exporter": "python",
   "pygments_lexer": "ipython3",
   "version": "3.10.8"
  }
 },
 "nbformat": 4,
 "nbformat_minor": 5
}
