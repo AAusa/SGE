{
 "cells": [
  {
   "cell_type": "markdown",
   "id": "106f446b",
   "metadata": {},
   "source": [
    "# Exámen 01/12/2022 SGE\n",
    "El exámen consta de un total de 25 puntos, de los que se muestra la puntuación a continuación "
   ]
  },
  {
   "cell_type": "markdown",
   "id": "d642f166",
   "metadata": {},
   "source": [
    "- [Ejercicio 1](#Ejercicio-1)  \n",
    "- [Ejercicio 2](#Ejercicio-2)\n",
    "- [Ejercicio 3](#Ejercicio-3)\n",
    "- [Ejercicio 4](#Ejercicio-4)  \n",
    "- [Ejercicio 5](#Ejercicio-5)\n",
    "- [Ejercicio 6](#Ejercicio-6)\n",
    "- [Ejercicio 7](#Ejercicio-7)  \n",
    "- [Ejercicio 8](#Ejercicio-8)\n",
    "- [Ejercicio 9](#Ejercicio-9)\n",
    "- [Ejercicio 10](#Ejercicio-10)  \n",
    "- [Ejercicio 11](#Ejercicio-11)"
   ]
  },
  {
   "cell_type": "markdown",
   "id": "f69d5b1e",
   "metadata": {},
   "source": [
    "## Ejercicio 1\n",
    "Crea un menú, de manera que se enlacen todos los ejercicios que se pidan en esta libreta. Crea el menú antes de este ejercicio (incluído este ejercicio) (**1 punto**)"
   ]
  },
  {
   "cell_type": "markdown",
   "id": "637a2c97",
   "metadata": {},
   "source": [
    "## Ejercicio 2 \n",
    "Crea una función que fuerce a un usuario a devolver un valor entre 90 y 110. La función debe tener por nombre **pideNúmero** (**1 punto**)"
   ]
  },
  {
   "cell_type": "code",
   "execution_count": 75,
   "id": "a12b2b69",
   "metadata": {},
   "outputs": [
    {
     "name": "stdout",
     "output_type": "stream",
     "text": [
      "Introduce num: 90\n"
     ]
    },
    {
     "data": {
      "text/plain": [
       "90"
      ]
     },
     "execution_count": 75,
     "metadata": {},
     "output_type": "execute_result"
    }
   ],
   "source": [
    "def pideNumero():\n",
    "    num = 0\n",
    "    while (num < 90 or num > 110):\n",
    "        num = int(input('Introduce num: '))\n",
    "    return num;\n",
    "pideNumero()"
   ]
  },
  {
   "cell_type": "markdown",
   "id": "a06d8b03",
   "metadata": {},
   "source": [
    "## Ejercicio 3\n",
    "Crea una función de manera que dado un número entero por parámetro devuelva una lista del tamaño dado por parámetro. Cada uno de los valores de la lista debe ser un número aleatorio entre 0 y el número pasado por parámetro. La función debe tener por nombre **generaListaAleatoria** (**1 punto**)"
   ]
  },
  {
   "cell_type": "code",
   "execution_count": 76,
   "id": "70c64f08",
   "metadata": {},
   "outputs": [
    {
     "name": "stdout",
     "output_type": "stream",
     "text": [
      "Introduce num: 91\n"
     ]
    }
   ],
   "source": [
    "import random\n",
    "def generaListaAleatoria (numero):\n",
    "    lista = [0]*numero\n",
    "    for i, elemento in enumerate((lista)):\n",
    "        lista[i] = (random.randint(0, numero))\n",
    "    return lista \n",
    "    \n",
    "numero = pideNumero()\n",
    "listaAleatoria = generaListaAleatoria(numero)"
   ]
  },
  {
   "cell_type": "markdown",
   "id": "1b7cea53",
   "metadata": {},
   "source": [
    "## Ejercicio 4\n",
    "Crea una función que tenga por parámetro una lista (será del tipo **listaAleatoria**) y devuelva una lista de elementos repetidos en la lista. \n",
    "\n",
    "Ej: Si mi lista es [1,2,2,3,4,5,5,6], la función debe devolver [2,5]. La función tendrá por nombre **elementosRepetidos** (**1 puntos**)\n"
   ]
  },
  {
   "cell_type": "code",
   "execution_count": 95,
   "id": "0712d970",
   "metadata": {
    "scrolled": true
   },
   "outputs": [
    {
     "name": "stdout",
     "output_type": "stream",
     "text": [
      "Introduce num: 90\n",
      "10\n",
      "15\n",
      "18\n",
      "21\n",
      "26\n",
      "30\n",
      "34\n",
      "35\n",
      "36\n",
      "38\n",
      "40\n",
      "42\n",
      "46\n",
      "51\n",
      "52\n",
      "58\n",
      "66\n",
      "69\n",
      "71\n",
      "77\n",
      "82\n",
      "84\n",
      "86\n"
     ]
    }
   ],
   "source": [
    "def elementosRepetidos (lista, unaVez = False):\n",
    "    listaRepes = []\n",
    "    for i, elemento in enumerate((lista)):\n",
    "        if unaVez == False:\n",
    "            if lista.count(i) > 1:\n",
    "                listaRepes.append(i) \n",
    "        else:\n",
    "            if lista.count(i) == 1:\n",
    "                listaRepes.append(i) \n",
    "    return listaRepes\n",
    "\n",
    "numero = pideNumero()\n",
    "listaAleatoria = generaListaAleatoria(numero)\n",
    "repes = elementosRepetidos(listaAleatoria)\n",
    "for item in repes:\n",
    "    print(item)"
   ]
  },
  {
   "cell_type": "markdown",
   "id": "d32dc9c7",
   "metadata": {},
   "source": [
    "## Ejercicio 5 \n",
    "Crea una función que tenga por parámetro una lista (será del tipo **listaAleatoria**), y devuelva una lista con los valores enteros de tamaño menor o igual que el tamaño de la lista que no aparecen en la lista. La función tendrá por nombre **elementosFaltantes** (**1 punto**)"
   ]
  },
  {
   "cell_type": "code",
   "execution_count": 86,
   "id": "e574ff95",
   "metadata": {},
   "outputs": [
    {
     "name": "stdout",
     "output_type": "stream",
     "text": [
      "Introduce num: 90\n",
      "4\n",
      "6\n",
      "7\n",
      "9\n",
      "13\n",
      "16\n",
      "17\n",
      "21\n",
      "22\n",
      "26\n",
      "28\n",
      "34\n",
      "35\n",
      "38\n",
      "41\n",
      "43\n",
      "45\n",
      "46\n",
      "48\n",
      "51\n",
      "54\n",
      "57\n",
      "61\n",
      "65\n",
      "68\n",
      "69\n",
      "70\n",
      "74\n",
      "75\n",
      "76\n",
      "78\n",
      "80\n",
      "86\n",
      "87\n",
      "89\n"
     ]
    }
   ],
   "source": [
    "def elementosFaltantes (lista):\n",
    "    listaFalta = []\n",
    "    for i in range(0,len(lista)):\n",
    "        if lista.count(i) == 0:\n",
    "            listaFalta.append(i)\n",
    "    return listaFalta\n",
    "\n",
    "numero = pideNumero()\n",
    "listaAleatoria = generaListaAleatoria(numero)\n",
    "faltan = elementosFaltantes(listaAleatoria)\n",
    "for item in faltan:\n",
    "    print(item)"
   ]
  },
  {
   "cell_type": "markdown",
   "id": "d9bad251",
   "metadata": {},
   "source": [
    "## Ejercicio 6 \n",
    "**Haciendo uso de las dos funciones anteriores**, crea una función que devuelva los elementos que solo aparecen una vez en listaAleatoria. La función tendrá por nombre **elementosUnicos** (**1 punto**)"
   ]
  },
  {
   "cell_type": "code",
   "execution_count": 97,
   "id": "5bb0ded4",
   "metadata": {},
   "outputs": [
    {
     "name": "stdout",
     "output_type": "stream",
     "text": [
      "Introduce num: 90\n",
      "1\n",
      "2\n",
      "12\n",
      "13\n",
      "14\n",
      "16\n",
      "20\n",
      "22\n",
      "28\n",
      "30\n",
      "34\n",
      "35\n",
      "39\n",
      "43\n",
      "44\n",
      "48\n",
      "51\n",
      "52\n",
      "54\n",
      "55\n",
      "56\n",
      "61\n",
      "66\n",
      "67\n",
      "70\n",
      "71\n",
      "72\n",
      "75\n",
      "77\n",
      "78\n",
      "80\n",
      "85\n",
      "86\n",
      "89\n"
     ]
    }
   ],
   "source": [
    "numero = pideNumero()\n",
    "listaAleatoria = generaListaAleatoria(numero)\n",
    "unicos = elementosRepetidos(listaAleatoria,True)\n",
    "for item in unicos:\n",
    "    print(item)"
   ]
  },
  {
   "cell_type": "markdown",
   "id": "0d41b817",
   "metadata": {},
   "source": [
    "## Ejercicio 7\n",
    "Crea una función de modo que tenga por parámetro una lista (será del tipo **listaAleatoria**) y devuelva un diccionario que tenga por clave un el número de veces que aparece un número y por valor una lista con los números que aparecen repetidos en la lista ese número de veces **diccionarioCuenta** (**2 puntos**)"
   ]
  },
  {
   "cell_type": "code",
   "execution_count": 121,
   "id": "4ac882c2",
   "metadata": {},
   "outputs": [
    {
     "name": "stdout",
     "output_type": "stream",
     "text": [
      "Introduce num: 90\n",
      "diccionario[ 1 ] -->  1\n",
      "diccionario[ 2 ] -->  1\n",
      "diccionario[ 3 ] -->  3\n",
      "diccionario[ 4 ] -->  1\n",
      "diccionario[ 5 ] -->  1\n",
      "diccionario[ 6 ] -->  0\n",
      "diccionario[ 7 ] -->  2\n",
      "diccionario[ 8 ] -->  2\n",
      "diccionario[ 9 ] -->  1\n",
      "diccionario[ 10 ] -->  0\n",
      "diccionario[ 11 ] -->  1\n",
      "diccionario[ 12 ] -->  2\n",
      "diccionario[ 13 ] -->  1\n",
      "diccionario[ 14 ] -->  1\n",
      "diccionario[ 15 ] -->  0\n",
      "diccionario[ 16 ] -->  1\n",
      "diccionario[ 17 ] -->  2\n",
      "diccionario[ 18 ] -->  2\n",
      "diccionario[ 19 ] -->  2\n",
      "diccionario[ 20 ] -->  1\n",
      "diccionario[ 21 ] -->  1\n",
      "diccionario[ 22 ] -->  0\n",
      "diccionario[ 23 ] -->  1\n",
      "diccionario[ 24 ] -->  0\n",
      "diccionario[ 25 ] -->  3\n",
      "diccionario[ 26 ] -->  0\n",
      "diccionario[ 27 ] -->  0\n",
      "diccionario[ 28 ] -->  2\n",
      "diccionario[ 29 ] -->  0\n",
      "diccionario[ 30 ] -->  0\n",
      "diccionario[ 31 ] -->  0\n",
      "diccionario[ 32 ] -->  1\n",
      "diccionario[ 33 ] -->  3\n",
      "diccionario[ 34 ] -->  1\n",
      "diccionario[ 35 ] -->  2\n",
      "diccionario[ 36 ] -->  1\n",
      "diccionario[ 37 ] -->  0\n",
      "diccionario[ 38 ] -->  2\n",
      "diccionario[ 39 ] -->  1\n",
      "diccionario[ 40 ] -->  1\n",
      "diccionario[ 41 ] -->  0\n",
      "diccionario[ 42 ] -->  0\n",
      "diccionario[ 43 ] -->  2\n",
      "diccionario[ 44 ] -->  1\n",
      "diccionario[ 45 ] -->  0\n",
      "diccionario[ 46 ] -->  0\n",
      "diccionario[ 47 ] -->  1\n",
      "diccionario[ 48 ] -->  1\n",
      "diccionario[ 49 ] -->  0\n",
      "diccionario[ 50 ] -->  2\n",
      "diccionario[ 51 ] -->  1\n",
      "diccionario[ 52 ] -->  1\n",
      "diccionario[ 53 ] -->  1\n",
      "diccionario[ 54 ] -->  0\n",
      "diccionario[ 55 ] -->  1\n",
      "diccionario[ 56 ] -->  5\n",
      "diccionario[ 57 ] -->  1\n",
      "diccionario[ 58 ] -->  1\n",
      "diccionario[ 59 ] -->  2\n",
      "diccionario[ 60 ] -->  1\n",
      "diccionario[ 61 ] -->  0\n",
      "diccionario[ 62 ] -->  0\n",
      "diccionario[ 63 ] -->  3\n",
      "diccionario[ 64 ] -->  0\n",
      "diccionario[ 65 ] -->  0\n",
      "diccionario[ 66 ] -->  0\n",
      "diccionario[ 67 ] -->  1\n",
      "diccionario[ 68 ] -->  0\n",
      "diccionario[ 69 ] -->  0\n",
      "diccionario[ 70 ] -->  0\n",
      "diccionario[ 71 ] -->  1\n",
      "diccionario[ 72 ] -->  1\n",
      "diccionario[ 73 ] -->  2\n",
      "diccionario[ 74 ] -->  0\n",
      "diccionario[ 75 ] -->  1\n",
      "diccionario[ 76 ] -->  3\n",
      "diccionario[ 77 ] -->  2\n",
      "diccionario[ 78 ] -->  0\n",
      "diccionario[ 79 ] -->  2\n",
      "diccionario[ 80 ] -->  0\n",
      "diccionario[ 81 ] -->  2\n",
      "diccionario[ 82 ] -->  0\n",
      "diccionario[ 83 ] -->  0\n",
      "diccionario[ 84 ] -->  0\n",
      "diccionario[ 85 ] -->  1\n",
      "diccionario[ 86 ] -->  2\n",
      "diccionario[ 87 ] -->  0\n",
      "diccionario[ 88 ] -->  2\n",
      "diccionario[ 89 ] -->  0\n"
     ]
    }
   ],
   "source": [
    "def diccionarioCuenta (lista):\n",
    "    diccionario = {}\n",
    "    for i in range(1,len(lista)):\n",
    "        diccionario[i] = lista.count(i)\n",
    "    return diccionario\n",
    "        \n",
    "numero = pideNumero()\n",
    "listaAleatoria = generaListaAleatoria(numero)\n",
    "diccionario = diccionarioCuenta(listaAleatoria)\n",
    "for i in range(1,len(listaAleatoria)):\n",
    "    print(\"diccionario[\",i,\"]\", \"--> \" , diccionario[i])"
   ]
  },
  {
   "cell_type": "markdown",
   "id": "3641780f",
   "metadata": {},
   "source": [
    "## Ejercicio 8\n",
    "Crea una función que devuelva una lista bidimensional aleatoria de tamaño 16x16 en los que cada uno de los elementos de la lista sea un caracter ASCII aleatorio (hay un total de 256 caracteres ASCII). Tal función se deberá llamar **aleatoriaASCII** (**1punto**)\n",
    "\n",
    "**Pista :**  Puedes tener en cuenta que la función chr() convierte un entero a un caracter y que la función ord() convierte un caracter a un entero"
   ]
  },
  {
   "cell_type": "code",
   "execution_count": 127,
   "id": "538b1c27",
   "metadata": {},
   "outputs": [],
   "source": [
    "import random\n",
    "def aleatoriaAscii():\n",
    "    aleatorio = []\n",
    "    for i in range(0,16):\n",
    "        for j in range(0,16):\n",
    "            aleatorio.append(random.randint(0, 256))\n",
    "    return aleatorio\n",
    "aleatoriaAscii = aleatoriaAscii()"
   ]
  },
  {
   "cell_type": "markdown",
   "id": "1620e3c4",
   "metadata": {},
   "source": [
    "## Ejercicio 9 \n",
    "Crea una función que dada una lista bidimensional (del tipo lista aleatoriaAscii), represente los números correspondientes a los caracteres ASCII de la matriz. Debe quedar alineada y siguiendo el mismo formato de la imagen que aparece a continuación. Llamarás a la función **muestraMatrizAscii**. Crea algún método adicional si lo consideras necesario (**3 puntos**)"
   ]
  },
  {
   "cell_type": "markdown",
   "id": "0435bb23",
   "metadata": {},
   "source": [
    " <img src=\"matriz.png\" alt=\"Matriz ascii aleatoria\" title=\"Title text\" />"
   ]
  },
  {
   "cell_type": "code",
   "execution_count": 134,
   "id": "122feda2",
   "metadata": {},
   "outputs": [
    {
     "name": "stdout",
     "output_type": "stream",
     "text": [
      "|4 ,83 ,37 ,173 ,252 ,27 ,175 ,243 ,168 ,172 ,109 ,60 ,254 ,217 ,150 ,93 ,|\n",
      "|248 ,86 ,133 ,61 ,225 ,253 ,50 ,45 ,215 ,254 ,167 ,37 ,145 ,219 ,82 ,13 ,|\n",
      "|232 ,139 ,41 ,94 ,161 ,185 ,166 ,43 ,232 ,185 ,243 ,77 ,206 ,102 ,41 ,115 ,|\n",
      "|135 ,46 ,19 ,14 ,172 ,137 ,214 ,20 ,71 ,201 ,26 ,80 ,2 ,110 ,199 ,166 ,|\n",
      "|188 ,4 ,88 ,147 ,222 ,200 ,91 ,253 ,234 ,141 ,163 ,111 ,121 ,181 ,54 ,147 ,|\n",
      "|233 ,67 ,224 ,6 ,103 ,148 ,73 ,111 ,227 ,66 ,241 ,214 ,246 ,148 ,215 ,221 ,|\n",
      "|248 ,44 ,166 ,85 ,91 ,56 ,155 ,134 ,35 ,49 ,161 ,148 ,23 ,121 ,240 ,249 ,|\n",
      "|18 ,115 ,49 ,109 ,31 ,237 ,124 ,180 ,163 ,234 ,187 ,171 ,248 ,90 ,101 ,100 ,|\n",
      "|234 ,204 ,152 ,69 ,158 ,15 ,22 ,57 ,105 ,208 ,180 ,168 ,193 ,75 ,143 ,61 ,|\n",
      "|249 ,83 ,200 ,143 ,131 ,56 ,22 ,164 ,221 ,85 ,72 ,226 ,214 ,66 ,48 ,173 ,|\n",
      "|188 ,124 ,193 ,161 ,209 ,22 ,68 ,133 ,20 ,43 ,75 ,190 ,217 ,142 ,155 ,39 ,|\n",
      "|138 ,186 ,149 ,207 ,227 ,146 ,218 ,180 ,155 ,55 ,188 ,118 ,117 ,0 ,215 ,105 ,|\n",
      "|53 ,118 ,125 ,176 ,0 ,29 ,111 ,214 ,166 ,251 ,182 ,82 ,101 ,93 ,198 ,206 ,|\n",
      "|44 ,192 ,155 ,44 ,36 ,254 ,26 ,142 ,217 ,79 ,134 ,181 ,131 ,141 ,33 ,65 ,|\n",
      "|117 ,104 ,256 ,54 ,6 ,48 ,118 ,7 ,127 ,164 ,42 ,131 ,242 ,197 ,93 ,162 ,|\n",
      "|250 ,81 ,9 ,51 ,163 ,31 ,5 ,86 ,99 ,11 ,206 ,169 ,133 ,44 ,50 ,209 ,|\n"
     ]
    }
   ],
   "source": [
    "import random\n",
    "def aleatoriaAscii():\n",
    "    aleatorio = []\n",
    "    for i in range(0,16):\n",
    "        print(\"|\",end=\"\")\n",
    "        for j in range(0,16):\n",
    "            aleatorio.append(random.randint(0, 256))\n",
    "            print(random.randint(0, 256),\",\",end=\"\")\n",
    "        print(\"|\")\n",
    "aleatoriaAscii()"
   ]
  },
  {
   "cell_type": "markdown",
   "id": "df2e3df8",
   "metadata": {},
   "source": [
    "## Ejercicio 10\n",
    "Para la realización de este ejercicio utilizaremos VSCode. Recuerda que todos los atributos de las clases que creemos deben ser privados y todos los métodos deben ser públicos. Crearemos todas las clases en una misma carpeta.\n",
    "\n",
    "### Clase vehículo\n",
    "Es una clase que tendrá los atributos que se muestran en el diagrama uml. \n",
    "- El método aString devolverá un string que represente todos los datos del coche\n",
    "- Los métodos acelerar y frenar cambiarán la velocidad del vehículo según el parámetro de entrada (que supondremos por simplicidad que es positivo). El vehículo nunca podrá superar la velocidad máxima ni tener una velocidad inferior a 0.\n",
    "\n",
    "### Clase moto\n",
    "Deriva de clase vehículo. Al implemetar esta clase, el parámetro ruedas debe ser 2 automáticamente. \n",
    "- El método caballito simplemnte muestra por pantalla. \"Puedo hacer caballitos\"\n",
    "\n",
    "### Clase bicicleta\n",
    "Deriva de clase vehículo. Al implemetar esta clase, el parámetro ruedas debe ser 2 automáticamente. \n",
    "- El pedales simplemnte muestra por pantalla. \"Voy a pedales\"\n",
    "\n",
    "### Clase coche\n",
    "Deriva de clase vehículo. Al implemetar esta clase, el parámetro ruedas debe ser 4 automáticamente. \n",
    "- El método marchaAtras() pone a -10 la velocidad del coche, solamente si la velocidad del coche es 0.\n",
    "\n",
    "### Clase garaje\n",
    "Estará formada por una lista de vehículos y numVehiculos, que representará el tamaño de la lista\n",
    "- Los métodos totalKilometros() y totalCombustible() devolverán el número total kilómetros y combustible de los vehículos del garaje\n",
    "- El método añadirVehiculo(vehiculo) añadirá un vehículo al parámetro vehiculos y aumentará en 1 numVehiculos\n",
    "- El método quitarVehiculo(matricula) quitará el vehículo con la matrícula determinada de la lista disminuirá en 1 numVehiculos siempre que exista un vehículo con la matrícula dada. Si no existe un vehículo con la matrícula dada, no hará nada el método\n",
    "\n",
    "### Clase principal\n",
    "Ejecuta una clase principal en la que crees un vehículo de cada (1 bici, una moto y un coche, todos con velocidad inicial 0) y un garaje con esos 3 vehículos\n",
    "\n",
    "Se deja a continuación un diagrama UML que representa al ejercicio\n",
    "\n",
    "(**8 puntos**)\n",
    "\n",
    "\n",
    "\n",
    "\n"
   ]
  },
  {
   "cell_type": "markdown",
   "id": "fa166e72",
   "metadata": {},
   "source": [
    " <img src=\"diagrama.png\" alt=\"Diagrama UML\" title=\"Title text\" />"
   ]
  },
  {
   "cell_type": "markdown",
   "id": "5ab15554",
   "metadata": {},
   "source": [
    "## Ejercicio 11\n",
    "Adjunta imágenes (debe aparecer en la captura de pantalla el día y la fecha de hoy) en las que (**2 puntos**):\n",
    "- Muestres que te conectas por SSH a un servidor odoo \n",
    "- Muestres que está funcionando correctamente la página web de odoo\n",
    "- Muestres como pones odoo en modo desarrollador\n",
    "- Crea un módulo en Odoo llamado patata y muestra como aparece en la página web de odoo"
   ]
  },
  {
   "cell_type": "markdown",
   "id": "950dd5d5",
   "metadata": {},
   "source": [
    "<img src=\"ej1.png\" alt=\"Diagrama UML\" title=\"Title text\" />"
   ]
  },
  {
   "cell_type": "markdown",
   "id": "cd99bdc7",
   "metadata": {},
   "source": [
    "<img src=\"ej2.png\" alt=\"Diagrama UML\" title=\"Title text\" />"
   ]
  },
  {
   "cell_type": "markdown",
   "id": "3a920bab",
   "metadata": {},
   "source": [
    "<img src=\"ej3.png\" alt=\"Diagrama UML\" title=\"Title text\" />"
   ]
  },
  {
   "cell_type": "markdown",
   "id": "92dab7f8",
   "metadata": {},
   "source": [
    "<img src=\"ej4.png\" alt=\"Diagrama UML\" title=\"Title text\" />"
   ]
  }
 ],
 "metadata": {
  "kernelspec": {
   "display_name": "Python 3 (ipykernel)",
   "language": "python",
   "name": "python3"
  },
  "language_info": {
   "codemirror_mode": {
    "name": "ipython",
    "version": 3
   },
   "file_extension": ".py",
   "mimetype": "text/x-python",
   "name": "python",
   "nbconvert_exporter": "python",
   "pygments_lexer": "ipython3",
   "version": "3.10.8"
  }
 },
 "nbformat": 4,
 "nbformat_minor": 5
}
